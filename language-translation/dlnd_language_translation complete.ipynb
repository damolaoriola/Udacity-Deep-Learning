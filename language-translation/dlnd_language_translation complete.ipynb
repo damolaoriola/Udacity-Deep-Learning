{
 "cells": [
  {
   "cell_type": "markdown",
   "metadata": {
    "colab_type": "text",
    "collapsed": true,
    "id": "HdwyMKA-qLMU"
   },
   "source": [
    "# Language Translation\n",
    "In this project, you’re going to take a peek into the realm of neural network machine translation.  You’ll be training a sequence to sequence model on a dataset of English and French sentences that can translate new sentences from English to French.\n",
    "## Get the Data\n",
    "Since translating the whole language of English to French will take lots of time to train, we have provided you with a small portion of the English corpus."
   ]
  },
  {
   "cell_type": "code",
   "execution_count": 0,
   "metadata": {
    "colab": {
     "base_uri": "https://localhost:8080/",
     "height": 85
    },
    "colab_type": "code",
    "id": "S7z0GNOFqLMV",
    "outputId": "2b011be5-4f30-4849-9df9-b256242421f5"
   },
   "outputs": [
    {
     "name": "stdout",
     "output_type": "stream",
     "text": [
      "Archive:  data.zip\n",
      "   creating: data/\n",
      "  inflating: data/small_vocab_en     \n",
      "  inflating: data/small_vocab_fr     \n"
     ]
    }
   ],
   "source": [
    "\"\"\"\n",
    "DON'T MODIFY ANYTHING IN THIS CELL\n",
    "\"\"\"\n",
    "!unzip data\n",
    "\n",
    "import helper\n",
    "import problem_unittests as tests\n",
    "\n",
    "source_path = 'data/small_vocab_en'\n",
    "target_path = 'data/small_vocab_fr'\n",
    "source_text = helper.load_data(source_path)\n",
    "target_text = helper.load_data(target_path)"
   ]
  },
  {
   "cell_type": "code",
   "execution_count": 0,
   "metadata": {
    "colab": {
     "base_uri": "https://localhost:8080/",
     "height": 102
    },
    "colab_type": "code",
    "id": "vqbqe0tjqYJE",
    "outputId": "a3840a87-668f-44e2-b2a4-b0663a1b7587"
   },
   "outputs": [
    {
     "name": "stdout",
     "output_type": "stream",
     "text": [
      "Archive:  data.zip\n",
      "replace data/small_vocab_en? [y]es, [n]o, [A]ll, [N]one, [r]ename: y\n",
      "  inflating: data/small_vocab_en     \n",
      "replace data/small_vocab_fr? [y]es, [n]o, [A]ll, [N]one, [r]ename: y\n",
      "  inflating: data/small_vocab_fr     \n"
     ]
    }
   ],
   "source": [
    "!unzip data"
   ]
  },
  {
   "cell_type": "markdown",
   "metadata": {
    "colab_type": "text",
    "id": "UZBEFh_oqLMZ"
   },
   "source": [
    "## Explore the Data\n",
    "Play around with view_sentence_range to view different parts of the data."
   ]
  },
  {
   "cell_type": "code",
   "execution_count": 0,
   "metadata": {
    "colab": {
     "base_uri": "https://localhost:8080/",
     "height": 493
    },
    "colab_type": "code",
    "id": "ElBNYZQqqLMa",
    "outputId": "31481de6-358b-47c4-fdb9-0a19d6a6179e"
   },
   "outputs": [
    {
     "name": "stdout",
     "output_type": "stream",
     "text": [
      "Dataset Stats\n",
      "Roughly the number of unique words: 227\n",
      "Number of sentences: 137861\n",
      "Average number of words in a sentence: 13.225277634719028\n",
      "\n",
      "English sentences 0 to 10:\n",
      "new jersey is sometimes quiet during autumn , and it is snowy in april .\n",
      "the united states is usually chilly during july , and it is usually freezing in november .\n",
      "california is usually quiet during march , and it is usually hot in june .\n",
      "the united states is sometimes mild during june , and it is cold in september .\n",
      "your least liked fruit is the grape , but my least liked is the apple .\n",
      "his favorite fruit is the orange , but my favorite is the grape .\n",
      "paris is relaxing during december , but it is usually chilly in july .\n",
      "new jersey is busy during spring , and it is never hot in march .\n",
      "our least liked fruit is the lemon , but my least liked is the grape .\n",
      "the united states is sometimes busy during january , and it is sometimes warm in november .\n",
      "\n",
      "French sentences 0 to 10:\n",
      "new jersey est parfois calme pendant l' automne , et il est neigeux en avril .\n",
      "les états-unis est généralement froid en juillet , et il gèle habituellement en novembre .\n",
      "california est généralement calme en mars , et il est généralement chaud en juin .\n",
      "les états-unis est parfois légère en juin , et il fait froid en septembre .\n",
      "votre moins aimé fruit est le raisin , mais mon moins aimé est la pomme .\n",
      "son fruit préféré est l'orange , mais mon préféré est le raisin .\n",
      "paris est relaxant en décembre , mais il est généralement froid en juillet .\n",
      "new jersey est occupé au printemps , et il est jamais chaude en mars .\n",
      "notre fruit est moins aimé le citron , mais mon moins aimé est le raisin .\n",
      "les états-unis est parfois occupé en janvier , et il est parfois chaud en novembre .\n"
     ]
    }
   ],
   "source": [
    "view_sentence_range = (0, 10)\n",
    "\n",
    "\"\"\"\n",
    "DON'T MODIFY ANYTHING IN THIS CELL\n",
    "\"\"\"\n",
    "import numpy as np\n",
    "\n",
    "print('Dataset Stats')\n",
    "print('Roughly the number of unique words: {}'.format(len({word: None for word in source_text.split()})))\n",
    "\n",
    "sentences = source_text.split('\\n')\n",
    "word_counts = [len(sentence.split()) for sentence in sentences]\n",
    "print('Number of sentences: {}'.format(len(sentences)))\n",
    "print('Average number of words in a sentence: {}'.format(np.average(word_counts)))\n",
    "\n",
    "print()\n",
    "print('English sentences {} to {}:'.format(*view_sentence_range))\n",
    "print('\\n'.join(source_text.split('\\n')[view_sentence_range[0]:view_sentence_range[1]]))\n",
    "print()\n",
    "print('French sentences {} to {}:'.format(*view_sentence_range))\n",
    "print('\\n'.join(target_text.split('\\n')[view_sentence_range[0]:view_sentence_range[-1]]))"
   ]
  },
  {
   "cell_type": "code",
   "execution_count": 0,
   "metadata": {
    "colab": {},
    "colab_type": "code",
    "id": "9RZn9bRRsJk8"
   },
   "outputs": [],
   "source": []
  },
  {
   "cell_type": "code",
   "execution_count": 0,
   "metadata": {
    "colab": {
     "base_uri": "https://localhost:8080/",
     "height": 34
    },
    "colab_type": "code",
    "id": "1PgiNRqZ1fXM",
    "outputId": "e50db7f3-a535-4b75-ab3f-a9809aed50d0"
   },
   "outputs": [
    {
     "data": {
      "text/plain": [
       "[[4, 5, 9, 6, 7, 8]]"
      ]
     },
     "execution_count": 20,
     "metadata": {
      "tags": []
     },
     "output_type": "execute_result"
    }
   ],
   "source": [
    "j"
   ]
  },
  {
   "cell_type": "markdown",
   "metadata": {
    "colab_type": "text",
    "id": "dVxe6DDhqLMe"
   },
   "source": [
    "## Implement Preprocessing Function\n",
    "### Text to Word Ids\n",
    "As you did with other RNNs, you must turn the text into a number so the computer can understand it. In the function `text_to_ids()`, you'll turn `source_text` and `target_text` from words to ids.  However, you need to add the `<EOS>` word id at the end of `target_text`.  This will help the neural network predict when the sentence should end.\n",
    "\n",
    "You can get the `<EOS>` word id by doing:\n",
    "```python\n",
    "target_vocab_to_int['<EOS>']\n",
    "```\n",
    "You can get other word ids using `source_vocab_to_int` and `target_vocab_to_int`."
   ]
  },
  {
   "cell_type": "code",
   "execution_count": 0,
   "metadata": {
    "colab": {
     "base_uri": "https://localhost:8080/",
     "height": 34
    },
    "colab_type": "code",
    "id": "QS8pcQ_fqLMg",
    "outputId": "75d32efe-a739-4004-fe52-2162cbe07468"
   },
   "outputs": [
    {
     "name": "stdout",
     "output_type": "stream",
     "text": [
      "Tests Passed\n"
     ]
    }
   ],
   "source": [
    "def text_to_ids(source_text, target_text, source_vocab_to_int, target_vocab_to_int):\n",
    "    \"\"\"\n",
    "    Convert source and target text to proper word ids\n",
    "    :param source_text: String that contains all the source text.\n",
    "    :param target_text: String that contains all the target text.\n",
    "    :param source_vocab_to_int: Dictionary to go from the source words to an id\n",
    "    :param target_vocab_to_int: Dictionary to go from the target words to an id\n",
    "    :return: A tuple of lists (source_id_text, target_id_text)\n",
    "    \"\"\"\n",
    "    # TODO: Implement Function\n",
    "    \n",
    "    source_id_temp = [[source_vocab_to_int.get(word, 0) for word in sentence.split()]  for sentence in source_text.split('\\n')]\n",
    "    \n",
    "    target_id_temp = [[target_vocab_to_int.get(word, 0) for word in sentence.split()]  for sentence in target_text.split('\\n')]\n",
    "    \n",
    "    source_id_text = []\n",
    "    \n",
    "    target_id_text = []\n",
    "    \n",
    "    #looping through the sentences and adding end of sentence;\n",
    "    \n",
    "    for i in range(len(source_id_temp)):\n",
    "      \n",
    "      \n",
    "        source_id_text.append(source_id_temp[i])\n",
    "      \n",
    "        target_id_text.append(target_id_temp[i] + [target_vocab_to_int['<EOS>']])\n",
    "      \n",
    "     \n",
    "    \n",
    "    return (source_id_text, target_id_text)\n",
    "\n",
    "\"\"\"\n",
    "DON'T MODIFY ANYTHING IN THIS CELL THAT IS BELOW THIS LINE\n",
    "\"\"\"\n",
    "tests.test_text_to_ids(text_to_ids)"
   ]
  },
  {
   "cell_type": "markdown",
   "metadata": {
    "colab_type": "text",
    "id": "bFSyH1cVqLMl"
   },
   "source": [
    "### Preprocess all the data and save it\n",
    "Running the code cell below will preprocess all the data and save it to file."
   ]
  },
  {
   "cell_type": "code",
   "execution_count": 0,
   "metadata": {
    "colab": {},
    "colab_type": "code",
    "id": "3u41h6m-qLMn"
   },
   "outputs": [],
   "source": [
    "\"\"\"\n",
    "DON'T MODIFY ANYTHING IN THIS CELL\n",
    "\"\"\"\n",
    "helper.preprocess_and_save_data(source_path, target_path, text_to_ids)"
   ]
  },
  {
   "cell_type": "code",
   "execution_count": 0,
   "metadata": {
    "colab": {},
    "colab_type": "code",
    "id": "mWP8T2fZM43b"
   },
   "outputs": [],
   "source": []
  },
  {
   "cell_type": "markdown",
   "metadata": {
    "colab_type": "text",
    "id": "RqOWqSoIqLMr"
   },
   "source": [
    "# Check Point\n",
    "This is your first checkpoint. If you ever decide to come back to this notebook or have to restart the notebook, you can start from here. The preprocessed data has been saved to disk."
   ]
  },
  {
   "cell_type": "code",
   "execution_count": 0,
   "metadata": {
    "colab": {},
    "colab_type": "code",
    "id": "oQiq6owKqLMs"
   },
   "outputs": [],
   "source": [
    "\"\"\"\n",
    "DON'T MODIFY ANYTHING IN THIS CELL\n",
    "\"\"\"\n",
    "import numpy as np\n",
    "import helper\n",
    "import problem_unittests as tests\n",
    "\n",
    "(source_int_text, target_int_text), (source_vocab_to_int, target_vocab_to_int), _ = helper.load_preprocess()"
   ]
  },
  {
   "cell_type": "code",
   "execution_count": 0,
   "metadata": {
    "colab": {
     "base_uri": "https://localhost:8080/",
     "height": 187
    },
    "colab_type": "code",
    "id": "AgPHQ9gXNUXR",
    "outputId": "fa8f8b03-2ed5-44ab-c0fa-16780d5e448c"
   },
   "outputs": [
    {
     "data": {
      "text/plain": [
       "[[18, 41, 83, 33, 89, 230, 91, 206, 53, 50, 83, 67, 207, 69, 17],\n",
       " [183, 160, 111, 83, 79, 38, 230, 163, 206, 53, 50, 83, 79, 161, 207, 72, 17],\n",
       " [61, 83, 79, 89, 230, 87, 206, 53, 50, 83, 79, 152, 207, 78, 17],\n",
       " [183, 160, 111, 83, 33, 56, 230, 78, 206, 53, 50, 83, 23, 207, 82, 17],\n",
       " [12, 193, 147, 98, 83, 183, 58, 206, 156, 121, 193, 147, 83, 183, 167, 17],\n",
       " [195, 187, 98, 83, 183, 179, 206, 156, 121, 187, 83, 183, 58, 17],\n",
       " [171, 83, 116, 230, 105, 206, 156, 50, 83, 79, 38, 207, 163, 17],\n",
       " [18, 41, 83, 103, 230, 186, 206, 53, 50, 83, 9, 152, 207, 87, 17],\n",
       " [113, 193, 147, 98, 83, 183, 16, 206, 156, 121, 193, 147, 83, 183, 58, 17],\n",
       " [183, 160, 111, 83, 33, 103, 230, 221, 206, 53, 50, 83, 33, 42, 207, 72, 17]]"
      ]
     },
     "execution_count": 63,
     "metadata": {
      "tags": []
     },
     "output_type": "execute_result"
    }
   ],
   "source": [
    "source_int_text[:10]"
   ]
  },
  {
   "cell_type": "markdown",
   "metadata": {
    "colab_type": "text",
    "id": "EoJVvbpwqLMv"
   },
   "source": [
    "\n",
    "\n",
    "```\n",
    "# This is formatted as code\n",
    "```\n",
    "\n",
    "### Check the Version of TensorFlow and Access to GPU\n",
    "This will check to make sure you have the correct version of TensorFlow and access to a GPU"
   ]
  },
  {
   "cell_type": "code",
   "execution_count": 146,
   "metadata": {
    "colab": {
     "base_uri": "https://localhost:8080/",
     "height": 51
    },
    "colab_type": "code",
    "id": "mutfml7dqLMw",
    "outputId": "373e6a0e-213a-4dbf-b060-a8888cc79d5a"
   },
   "outputs": [
    {
     "name": "stdout",
     "output_type": "stream",
     "text": [
      "TensorFlow Version: 1.14.0\n",
      "Default GPU Device: /device:GPU:0\n"
     ]
    }
   ],
   "source": [
    "\"\"\"\n",
    "DON'T MODIFY ANYTHING IN THIS CELL\n",
    "\"\"\"\n",
    "from distutils.version import LooseVersion\n",
    "import warnings\n",
    "import tensorflow as tf\n",
    "from tensorflow.python.layers.core import Dense\n",
    "\n",
    "# Check TensorFlow Version\n",
    "assert LooseVersion(tf.__version__) >= LooseVersion('1.1'), 'Please use TensorFlow version 1.1 or newer'\n",
    "print('TensorFlow Version: {}'.format(tf.__version__))\n",
    "\n",
    "# Check for a GPU\n",
    "if not tf.test.gpu_device_name():\n",
    "    warnings.warn('No GPU found. Please use a GPU to train your neural network.')\n",
    "else:\n",
    "    print('Default GPU Device: {}'.format(tf.test.gpu_device_name()))"
   ]
  },
  {
   "cell_type": "markdown",
   "metadata": {
    "colab_type": "text",
    "id": "qTlNx-NmqLMz"
   },
   "source": [
    "## Build the Neural Network\n",
    "You'll build the components necessary to build a Sequence-to-Sequence model by implementing the following functions below:\n",
    "- `model_inputs`\n",
    "- `process_decoder_input`\n",
    "- `encoding_layer`\n",
    "- `decoding_layer_train`\n",
    "- `decoding_layer_infer`\n",
    "- `decoding_layer`\n",
    "- `seq2seq_model`\n",
    "\n",
    "### Input\n",
    "Implement the `model_inputs()` function to create TF Placeholders for the Neural Network. It should create the following placeholders:\n",
    "\n",
    "- Input text placeholder named \"input\" using the TF Placeholder name parameter with rank 2.\n",
    "- Targets placeholder with rank 2.\n",
    "- Learning rate placeholder with rank 0.\n",
    "- Keep probability placeholder named \"keep_prob\" using the TF Placeholder name parameter with rank 0.\n",
    "- Target sequence length placeholder named \"target_sequence_length\" with rank 1\n",
    "- Max target sequence length tensor named \"max_target_len\" getting its value from applying tf.reduce_max on the target_sequence_length placeholder. Rank 0.\n",
    "- Source sequence length placeholder named \"source_sequence_length\" with rank 1\n",
    "\n",
    "Return the placeholders in the following the tuple (input, targets, learning rate, keep probability, target sequence length, max target sequence length, source sequence length)"
   ]
  },
  {
   "cell_type": "code",
   "execution_count": 150,
   "metadata": {
    "colab": {
     "base_uri": "https://localhost:8080/",
     "height": 34
    },
    "colab_type": "code",
    "id": "NaXUXOYQqLM0",
    "outputId": "59eee234-a500-4e63-e39d-560002155268"
   },
   "outputs": [
    {
     "name": "stdout",
     "output_type": "stream",
     "text": [
      "Tests Passed\n"
     ]
    }
   ],
   "source": [
    "def model_inputs():\n",
    "    \"\"\"\n",
    "    Create TF Placeholders for input, targets, learning rate, and lengths of source and target sequences.\n",
    "    :return: Tuple (input, targets, learning rate, keep probability, target sequence length,\n",
    "    max target sequence length, source sequence length)\n",
    "    \"\"\"\n",
    "    # TODO: Implement Function\n",
    "    \n",
    "    inputs = tf.placeholder(tf.int32, [None, None], name= \"input\")\n",
    "    \n",
    "    targets= tf.placeholder(tf.int32, [None, None])\n",
    "    \n",
    "    learning_rate = tf.placeholder(tf.float32)\n",
    "    \n",
    "    keep_prob = tf.placeholder(tf.float32, name = \"keep_prob\")\n",
    "    \n",
    "    target_sequence_length = tf.placeholder(tf.int32, [None], name = \"target_sequence_length\")\n",
    "    \n",
    "    max_target_len  = tf.reduce_max(target_sequence_length, name = \"max_target_len\")\n",
    "    \n",
    "    source_sequence_length = tf.placeholder(tf.int32, [None], name = \"source_sequence_length\")\n",
    "    \n",
    "    \n",
    "    \n",
    "    \n",
    "    return (inputs, targets, learning_rate, keep_prob, target_sequence_length, max_target_len, source_sequence_length)\n",
    "\n",
    "\n",
    "\"\"\"\n",
    "DON'T MODIFY ANYTHING IN THIS CELL THAT IS BELOW THIS LINE\n",
    "\"\"\"\n",
    "tests.test_model_inputs(model_inputs)"
   ]
  },
  {
   "cell_type": "markdown",
   "metadata": {
    "colab_type": "text",
    "id": "sIBGngZ0qLM7"
   },
   "source": [
    "### Process Decoder Input\n",
    "Implement `process_decoder_input` by removing the last word id from each batch in `target_data` and concat the GO ID to the begining of each batch."
   ]
  },
  {
   "cell_type": "code",
   "execution_count": 151,
   "metadata": {
    "colab": {
     "base_uri": "https://localhost:8080/",
     "height": 34
    },
    "colab_type": "code",
    "id": "JGreaBJ0qLM9",
    "outputId": "55e70c8c-99d8-468d-d612-925372fd3312"
   },
   "outputs": [
    {
     "name": "stdout",
     "output_type": "stream",
     "text": [
      "Tests Passed\n"
     ]
    }
   ],
   "source": [
    "def process_decoder_input(target_data, target_vocab_to_int, batch_size):\n",
    "    \"\"\"\n",
    "    Preprocess target data for encoding\n",
    "    :param target_data: Target Placehoder\n",
    "    :param target_vocab_to_int: Dictionary to go from the target words to an id\n",
    "    :param batch_size: Batch Size\n",
    "    :return: Preprocessed target data\n",
    "    \"\"\"\n",
    "    # TODO: Implement Function\n",
    "    \n",
    "    #remove last word of batch to balance the batch addition at beginning of batch\n",
    "    \n",
    "    target_slice = tf.strided_slice(target_data, [0, 0], [batch_size, -1], [1, 1])\n",
    "    \n",
    "    \n",
    "    #add GO ID to beginning of batch\n",
    "    \n",
    "    target_batch = tf.concat([tf.fill([batch_size, 1], target_vocab_to_int[\"<GO>\"]), target_slice], axis = 1)\n",
    "      \n",
    "         \n",
    "    return target_batch\n",
    "\n",
    "\"\"\"\n",
    "DON'T MODIFY ANYTHING IN THIS CELL THAT IS BELOW THIS LINE\n",
    "\"\"\"\n",
    "tests.test_process_encoding_input(process_decoder_input)"
   ]
  },
  {
   "cell_type": "markdown",
   "metadata": {
    "colab_type": "text",
    "id": "LRysYqHsqLNC"
   },
   "source": [
    "### Encoding\n",
    "Implement `encoding_layer()` to create a Encoder RNN layer:\n",
    " * Embed the encoder input using [`tf.contrib.layers.embed_sequence`](https://www.tensorflow.org/api_docs/python/tf/contrib/layers/embed_sequence)\n",
    " * Construct a [stacked](https://github.com/tensorflow/tensorflow/blob/6947f65a374ebf29e74bb71e36fd82760056d82c/tensorflow/docs_src/tutorials/recurrent.md#stacking-multiple-lstms) [`tf.contrib.rnn.LSTMCell`](https://www.tensorflow.org/api_docs/python/tf/contrib/rnn/LSTMCell) wrapped in a [`tf.contrib.rnn.DropoutWrapper`](https://www.tensorflow.org/api_docs/python/tf/contrib/rnn/DropoutWrapper)\n",
    " * Pass cell and embedded input to [`tf.nn.dynamic_rnn()`](https://www.tensorflow.org/api_docs/python/tf/nn/dynamic_rnn)"
   ]
  },
  {
   "cell_type": "code",
   "execution_count": 153,
   "metadata": {
    "colab": {
     "base_uri": "https://localhost:8080/",
     "height": 34
    },
    "colab_type": "code",
    "id": "pwGOs0F8qLNE",
    "outputId": "85d1bf01-becc-4db7-df36-91aee3f88d79",
    "scrolled": false
   },
   "outputs": [
    {
     "name": "stdout",
     "output_type": "stream",
     "text": [
      "Tests Passed\n"
     ]
    }
   ],
   "source": [
    "from imp import reload\n",
    "reload(tests)\n",
    "\n",
    "def encoding_layer(rnn_inputs, rnn_size, num_layers, keep_prob, \n",
    "                   source_sequence_length, source_vocab_size, \n",
    "                   encoding_embedding_size):\n",
    "    \"\"\"\n",
    "    Create encoding layer\n",
    "    :param rnn_inputs: Inputs for the RNN\n",
    "    :param rnn_size: RNN Size\n",
    "    :param num_layers: Number of layers\n",
    "    :param keep_prob: Dropout keep probability\n",
    "    :param source_sequence_length: a list of the lengths of each sequence in the batch\n",
    "    :param source_vocab_size: vocabulary size of source data\n",
    "    :param encoding_embedding_size: embedding size of source data\n",
    "    :return: tuple (RNN output, RNN state)\n",
    "    \"\"\"\n",
    "    # TODO: Implement Function\n",
    "    def build_cell(rnn_size, keep_prob):\n",
    "    \n",
    "      #build an rnn cell of specific size\n",
    "        lstm = tf.nn.rnn_cell.BasicLSTMCell(rnn_size)\n",
    "      \n",
    "      #wrap with dropout\n",
    "        drop = tf.nn.rnn_cell.DropoutWrapper(lstm, output_keep_prob = keep_prob)\n",
    "      \n",
    "        return drop\n",
    "    \n",
    "    \n",
    "    # Stack up multiple LSTM layers, for deep learning\n",
    "    cell = tf.contrib.rnn.MultiRNNCell([build_cell(rnn_size, keep_prob) for _ in range(num_layers)])\n",
    "    \n",
    "    embed = tf.contrib.layers.embed_sequence(rnn_inputs, vocab_size= source_vocab_size, embed_dim= encoding_embedding_size)\n",
    "    \n",
    "    \n",
    "    #creates RNN and performs dynamic unrolling of inputs\n",
    "    \n",
    "    RNN_output, RNN_state = tf.nn.dynamic_rnn(cell, embed, dtype = tf.float32)\n",
    "    \n",
    "    #This way, dynamic_rnn has an initial hidden state for each sequence. \n",
    "    #It will pass on the hidden state from time step to time step for each sequence in the inputs parameter on its own, \n",
    "    #and hidden_state_out will contain the final output state for each sequence in the batch to pass to next batch\n",
    "    #No hidden state is passed between sequences of the same batch, but only between time steps of the same sequence.\n",
    "    \n",
    "    \n",
    "    return (RNN_output, RNN_state)\n",
    "\n",
    "\"\"\"\n",
    "DON'T MODIFY ANYTHING IN THIS CELL THAT IS BELOW THIS LINE\n",
    "\"\"\"\n",
    "tests.test_encoding_layer(encoding_layer)"
   ]
  },
  {
   "cell_type": "code",
   "execution_count": 0,
   "metadata": {
    "colab": {},
    "colab_type": "code",
    "id": "VfhSLxr6O48b"
   },
   "outputs": [],
   "source": []
  },
  {
   "cell_type": "markdown",
   "metadata": {
    "colab_type": "text",
    "id": "KpEPRaVzqLNJ"
   },
   "source": [
    "### Decoding - Training\n",
    "Create a training decoding layer:\n",
    "* Create a [`tf.contrib.seq2seq.TrainingHelper`](https://www.tensorflow.org/api_docs/python/tf/contrib/seq2seq/TrainingHelper) \n",
    "* Create a [`tf.contrib.seq2seq.BasicDecoder`](https://www.tensorflow.org/api_docs/python/tf/contrib/seq2seq/BasicDecoder)\n",
    "* Obtain the decoder outputs from [`tf.contrib.seq2seq.dynamic_decode`](https://www.tensorflow.org/api_docs/python/tf/contrib/seq2seq/dynamic_decode)"
   ]
  },
  {
   "cell_type": "code",
   "execution_count": 154,
   "metadata": {
    "colab": {
     "base_uri": "https://localhost:8080/",
     "height": 34
    },
    "colab_type": "code",
    "id": "etn9GgKrqLNK",
    "outputId": "80949c76-52e6-45a8-94d9-693b27665771"
   },
   "outputs": [
    {
     "name": "stdout",
     "output_type": "stream",
     "text": [
      "Tests Passed\n"
     ]
    }
   ],
   "source": [
    "\n",
    "def decoding_layer_train(encoder_state, dec_cell, dec_embed_input, \n",
    "                         target_sequence_length, max_summary_length, \n",
    "                         output_layer, keep_prob):\n",
    "    \"\"\"\n",
    "    Create a decoding layer for training\n",
    "    :param encoder_state: Encoder State\n",
    "    :param dec_cell: Decoder RNN Cell\n",
    "    :param dec_embed_input: Decoder embedded input\n",
    "    :param target_sequence_length: The lengths of each sequence in the target baentch\n",
    "    :param max_summary_length: The length of the longest sequence in the batch\n",
    "    :param output_layer: Function to apply the output layer\n",
    "    :param keep_prob: Dropout keep probability\n",
    "    :return: BasicDecoderOutput containing training logits and sample_id\n",
    "    \"\"\"\n",
    "    # TODO: Implement Function\n",
    "    \n",
    "    #decoder cell wrapped with dopout\n",
    "    \n",
    "    #dec_cell = tf.contrib.rnn.DropoutWrapper(dec_cell, output_keep_prob=keep_prob)\n",
    "    \n",
    "    #initiliazation of decoder to receive the embedded inputs\n",
    "    \n",
    "    decode_helper= tf.contrib.seq2seq.TrainingHelper(dec_embed_input, target_sequence_length)\n",
    "    \n",
    "    \n",
    "    #builds the decoder model. It means it connects the RNN layer(s) on the decoder side and \n",
    "    #the input prepared by TrainingHelper.\n",
    "    \n",
    "    basic_decoder = tf.contrib.seq2seq.BasicDecoder(dec_cell, decode_helper, initial_state = encoder_state,\\\n",
    "                                                   output_layer = output_layer)\n",
    "    \n",
    "    \n",
    "    #dynamic_decode unrolls the decoder model so that actual prediction can be retrieved by BasicDecoder for each time steps.\n",
    "    \n",
    "    dynamic_outputs, _, _ = tf.contrib.seq2seq.dynamic_decode(basic_decoder,\\\n",
    "                                                              maximum_iterations = max_summary_length)\n",
    "    \n",
    "    \n",
    "    \n",
    "    \n",
    "    return dynamic_outputs\n",
    "\n",
    "\n",
    "\n",
    "\"\"\"\n",
    "DON'T MODIFY ANYTHING IN THIS CELL THAT IS BELOW THIS LINE\n",
    "\"\"\"\n",
    "tests.test_decoding_layer_train(decoding_layer_train)"
   ]
  },
  {
   "cell_type": "markdown",
   "metadata": {
    "colab_type": "text",
    "id": "_zpS-ow8qLNO"
   },
   "source": [
    "### Decoding - Inference\n",
    "Create inference decoder:\n",
    "* Create a [`tf.contrib.seq2seq.GreedyEmbeddingHelper`](https://www.tensorflow.org/api_docs/python/tf/contrib/seq2seq/GreedyEmbeddingHelper)\n",
    "* Create a [`tf.contrib.seq2seq.BasicDecoder`](https://www.tensorflow.org/api_docs/python/tf/contrib/seq2seq/BasicDecoder)\n",
    "* Obtain the decoder outputs from [`tf.contrib.seq2seq.dynamic_decode`](https://www.tensorflow.org/api_docs/python/tf/contrib/seq2seq/dynamic_decode)"
   ]
  },
  {
   "cell_type": "code",
   "execution_count": 155,
   "metadata": {
    "colab": {
     "base_uri": "https://localhost:8080/",
     "height": 34
    },
    "colab_type": "code",
    "id": "OfV7EZbpqLNQ",
    "outputId": "af5641f7-34ab-4d2e-cfaf-421463cb38f0",
    "scrolled": true
   },
   "outputs": [
    {
     "name": "stdout",
     "output_type": "stream",
     "text": [
      "Tests Passed\n"
     ]
    }
   ],
   "source": [
    "def decoding_layer_infer(encoder_state, dec_cell, dec_embeddings, start_of_sequence_id,\n",
    "                         end_of_sequence_id, max_target_sequence_length,\n",
    "                         vocab_size, output_layer, batch_size, keep_prob):\n",
    "    \"\"\"\n",
    "    Create a decoding layer for inference\n",
    "    :param encoder_state: Encoder state\n",
    "    :param dec_cell: Decoder RNN Cell\n",
    "    :param dec_embeddings: Decoder embeddings\n",
    "    :param start_of_sequence_id: GO ID\n",
    "    :param end_of_sequence_id: EOS Id\n",
    "    :param max_target_sequence_length: Maximum length of target sequences\n",
    "    :param vocab_size: Size of decoder/target vocabulary\n",
    "    :param decoding_scope: TenorFlow Variable Scope for decoding\n",
    "    :param output_layer: Function to apply the output layer\n",
    "    :param batch_size: Batch size\n",
    "    :param keep_prob: Dropout keep probability\n",
    "    :return: BasicDecoderOutput containing inference logits and sample_id\n",
    "    \"\"\"\n",
    "    # TODO: Implement Function\n",
    "    \n",
    "    #GreedyEmbeddingHelper dynamically takes the output of the current step and give it to the next time step’s input \n",
    "    #for inference.In order to embed the each input result dynamically, embedding parameter(just bunch of weight values) \n",
    "    #should be provided. Along with it, GreedyEmbeddingHelper asks to give the start_of_sequence_id \n",
    "    #for the same amount as the batch size and end_of_sequence_id.\n",
    "    \n",
    "    \n",
    "    decode_helper =  tf.contrib.seq2seq.GreedyEmbeddingHelper(dec_embeddings,\\\n",
    "                                                              tf.fill([batch_size], start_of_sequence_id), end_of_sequence_id)\n",
    "    \n",
    "    \n",
    "    basic_decoder = tf.contrib.seq2seq.BasicDecoder(dec_cell, decode_helper, initial_state = encoder_state,\\\n",
    "                                                   output_layer = output_layer)\n",
    "    \n",
    "    dynamic_outputs, _, _ = tf.contrib.seq2seq.dynamic_decode(basic_decoder,\\\n",
    "                                                              maximum_iterations = max_target_sequence_length)\n",
    "    \n",
    "    \n",
    "    \n",
    "    \n",
    "    return dynamic_outputs\n",
    "\n",
    "\n",
    "\"\"\"\n",
    "DON'T MODIFY ANYTHING IN THIS CELL THAT IS BELOW THIS LINE\n",
    "\"\"\"\n",
    "tests.test_decoding_layer_infer(decoding_layer_infer)"
   ]
  },
  {
   "cell_type": "markdown",
   "metadata": {
    "colab_type": "text",
    "id": "JWJ-eE9SqLNU"
   },
   "source": [
    "### Build the Decoding Layer\n",
    "Implement `decoding_layer()` to create a Decoder RNN layer.\n",
    "\n",
    "* Embed the target sequences\n",
    "* Construct the decoder LSTM cell (just like you constructed the encoder cell above)\n",
    "* Create an output layer to map the outputs of the decoder to the elements of our vocabulary\n",
    "* Use the your `decoding_layer_train(encoder_state, dec_cell, dec_embed_input, target_sequence_length, max_target_sequence_length, output_layer, keep_prob)` function to get the training logits.\n",
    "* Use your `decoding_layer_infer(encoder_state, dec_cell, dec_embeddings, start_of_sequence_id, end_of_sequence_id, max_target_sequence_length, vocab_size, output_layer, batch_size, keep_prob)` function to get the inference logits.\n",
    "\n",
    "Note: You'll need to use [tf.variable_scope](https://www.tensorflow.org/api_docs/python/tf/variable_scope) to share variables between training and inference."
   ]
  },
  {
   "cell_type": "code",
   "execution_count": 156,
   "metadata": {
    "colab": {
     "base_uri": "https://localhost:8080/",
     "height": 34
    },
    "colab_type": "code",
    "id": "oLzKKU5bqLNW",
    "outputId": "47aaa78e-600c-4661-99c8-bc7f806374f9"
   },
   "outputs": [
    {
     "name": "stdout",
     "output_type": "stream",
     "text": [
      "Tests Passed\n"
     ]
    }
   ],
   "source": [
    "def decoding_layer(dec_input, encoder_state,\n",
    "                   target_sequence_length, max_target_sequence_length,\n",
    "                   rnn_size,\n",
    "                   num_layers, target_vocab_to_int, target_vocab_size,\n",
    "                   batch_size, keep_prob, decoding_embedding_size):\n",
    "    \"\"\"\n",
    "    Create decoding layer\n",
    "    :param dec_input: Decoder input\n",
    "    :param encoder_state: Encoder state\n",
    "    :param target_sequence_length: The lengths of each sequence in the target batch\n",
    "    :param max_target_sequence_length: Maximum length of target sequences\n",
    "    :param rnn_size: RNN Size\n",
    "    :param num_layers: Number of layers\n",
    "    :param target_vocab_to_int: Dictionary to go from the target words to an id\n",
    "    :param target_vocab_size: Size of target vocabulary\n",
    "    :param batch_size: The size of the batch\n",
    "    :param keep_prob: Dropout keep probability\n",
    "    :param decoding_embedding_size: Decoding embedding size\n",
    "    :return: Tuple of (Training BasicDecoderOutput, Inference BasicDecoderOutput)\n",
    "    \"\"\"\n",
    "    # TODO: Implement Function\n",
    "    \n",
    "    \n",
    "    #tf.contrib.layers.embed_sequence creates internal representation of embedding parameter, \n",
    "    #so we cannot look into or retrieve it.\n",
    "    #Rather, you need to create a embedding parameter manually by TF Variable.\n",
    "    \n",
    "    dec_embedding = tf.Variable(tf.random_uniform((target_vocab_size, decoding_embedding_size), -1, 1))\n",
    "    \n",
    "    input_embed = tf.nn.embedding_lookup(dec_embedding, dec_input)\n",
    "    \n",
    "    \n",
    "    # TODO: Implement Function\n",
    "    def build_cell(rnn_size, keep_prob):\n",
    "    \n",
    "      #build an rnn cell of specific size\n",
    "        lstm = tf.nn.rnn_cell.BasicLSTMCell(rnn_size)\n",
    "      \n",
    "      #wrap with dropout\n",
    "        drop = tf.nn.rnn_cell.DropoutWrapper(lstm, output_keep_prob = keep_prob)\n",
    "      \n",
    "        return drop\n",
    "    \n",
    "    \n",
    "    # Stack up multiple LSTM layers, for deep learning\n",
    "    \n",
    "    dec_cell = tf.contrib.rnn.MultiRNNCell([build_cell(rnn_size, keep_prob) for _ in range(num_layers)])\n",
    "   \n",
    "    \n",
    "    \n",
    "    with tf.variable_scope(\"decoder\"):\n",
    "      \n",
    "      \n",
    "        output_layer = tf.layers.Dense(units = target_vocab_size)\n",
    "      \n",
    "      \n",
    "        decode_output_train = decoding_layer_train(encoder_state, dec_cell, input_embed, \n",
    "                         target_sequence_length, max_target_sequence_length, \n",
    "                                                 output_layer, keep_prob)\n",
    "      \n",
    "      \n",
    "      \n",
    "      \n",
    "      \n",
    "    with tf.variable_scope(\"decoder\", reuse = True):\n",
    "      \n",
    "      output_layer = tf.layers.Dense(units = target_vocab_size)\n",
    "      \n",
    "      decode_output_infer= decoding_layer_infer(encoder_state, dec_cell, dec_embedding, target_vocab_to_int[\"<GO>\"], \n",
    "                           target_vocab_to_int[\"<EOS>\"], max_target_sequence_length,\n",
    "                           target_vocab_size, output_layer, batch_size, keep_prob)\n",
    "      \n",
    "    \n",
    "    \n",
    "    \n",
    "  \n",
    "    \n",
    "    \n",
    "    \n",
    "    \n",
    "    return decode_output_train, decode_output_infer\n",
    "\n",
    "\n",
    "\n",
    "\"\"\"\n",
    "DON'T MODIFY ANYTHING IN THIS CELL THAT IS BELOW THIS LINE\n",
    "\"\"\"\n",
    "tests.test_decoding_layer(decoding_layer)"
   ]
  },
  {
   "cell_type": "markdown",
   "metadata": {
    "colab_type": "text",
    "id": "vdAHYR9cqLNa"
   },
   "source": [
    "### Build the Neural Network\n",
    "Apply the functions you implemented above to:\n",
    "\n",
    "- Encode the input using your `encoding_layer(rnn_inputs, rnn_size, num_layers, keep_prob,  source_sequence_length, source_vocab_size, encoding_embedding_size)`.\n",
    "- Process target data using your `process_decoder_input(target_data, target_vocab_to_int, batch_size)` function.\n",
    "- Decode the encoded input using your `decoding_layer(dec_input, enc_state, target_sequence_length, max_target_sentence_length, rnn_size, num_layers, target_vocab_to_int, target_vocab_size, batch_size, keep_prob, dec_embedding_size)` function."
   ]
  },
  {
   "cell_type": "code",
   "execution_count": 160,
   "metadata": {
    "colab": {
     "base_uri": "https://localhost:8080/",
     "height": 34
    },
    "colab_type": "code",
    "id": "PC-hs_jIqLNb",
    "outputId": "4f23ec12-dbf0-4c0e-ce00-16e78cf2ec65"
   },
   "outputs": [
    {
     "name": "stdout",
     "output_type": "stream",
     "text": [
      "Tests Passed\n"
     ]
    }
   ],
   "source": [
    "def seq2seq_model(input_data, target_data, keep_prob, batch_size,\n",
    "                  source_sequence_length, target_sequence_length,\n",
    "                  max_target_sentence_length,\n",
    "                  source_vocab_size, target_vocab_size,\n",
    "                  enc_embedding_size, dec_embedding_size,\n",
    "                  rnn_size, num_layers, target_vocab_to_int):\n",
    "    \"\"\"\n",
    "    Build the Sequence-to-Sequence part of the neural network\n",
    "    :param input_data: Input placeholder\n",
    "    :param target_data: Target placeholder\n",
    "    :param keep_prob: Dropout keep probability placeholder\n",
    "    :param batch_size: Batch Size\n",
    "    :param source_sequence_length: Sequence Lengths of source sequences in the batch\n",
    "    :param target_sequence_length: Sequence Lengths of target sequences in the batch\n",
    "    :param source_vocab_size: Source vocabulary size\n",
    "    :param target_vocab_size: Target vocabulary size\n",
    "    :param enc_embedding_size: Decoder embedding size\n",
    "    :param dec_embedding_size: Encoder embedding size\n",
    "    :param rnn_size: RNN Size\n",
    "    :param num_layers: Number of layers\n",
    "    :param target_vocab_to_int: Dictionary to go from the target words to an id\n",
    "    :return: Tuple of (Training BasicDecoderOutput, Inference BasicDecoderOutput)\n",
    "    \"\"\"\n",
    "    # TODO: Implement Function\n",
    "    \n",
    "    #building encoder model\n",
    "    encoder_output, encoder_state = encoding_layer(input_data, rnn_size, num_layers, keep_prob,\\\n",
    "                              source_sequence_length, source_vocab_size,\\\n",
    "                              enc_embedding_size)\n",
    "    \n",
    "    #preprocessing for decoder model\n",
    "    decoding_target = process_decoder_input(target_data, target_vocab_to_int, batch_size)\n",
    "    \n",
    "    #building training and inference parts of decoder model\n",
    "    decode_output_train, decode_output_infer = decoding_layer(decoding_target, encoder_state,\n",
    "                   target_sequence_length, max_target_sentence_length,\n",
    "                   rnn_size,\n",
    "                   num_layers, target_vocab_to_int, target_vocab_size,\n",
    "                   batch_size, keep_prob, dec_embedding_size)\n",
    "    \n",
    "    \n",
    "    \n",
    "    \n",
    "    \n",
    "    \n",
    "    \n",
    "    return decode_output_train, decode_output_infer\n",
    "\n",
    "\n",
    "\"\"\"\n",
    "DON'T MODIFY ANYTHING IN THIS CELL THAT IS BELOW THIS LINE\n",
    "\"\"\"\n",
    "tests.test_seq2seq_model(seq2seq_model)"
   ]
  },
  {
   "cell_type": "code",
   "execution_count": 0,
   "metadata": {
    "colab": {},
    "colab_type": "code",
    "id": "nYTLwytKT47-"
   },
   "outputs": [],
   "source": []
  },
  {
   "cell_type": "markdown",
   "metadata": {
    "colab_type": "text",
    "id": "X_khngE5qLNe"
   },
   "source": [
    "## Neural Network Training\n",
    "### Hyperparameters\n",
    "Tune the following parameters:\n",
    "\n",
    "- Set `epochs` to the number of epochs.\n",
    "- Set `batch_size` to the batch size.\n",
    "- Set `rnn_size` to the size of the RNNs.\n",
    "- Set `num_layers` to the number of layers.\n",
    "- Set `encoding_embedding_size` to the size of the embedding for the encoder.\n",
    "- Set `decoding_embedding_size` to the size of the embedding for the decoder.\n",
    "- Set `learning_rate` to the learning rate.\n",
    "- Set `keep_probability` to the Dropout keep probability\n",
    "- Set `display_step` to state how many steps between each debug output statement"
   ]
  },
  {
   "cell_type": "code",
   "execution_count": 0,
   "metadata": {
    "colab": {},
    "colab_type": "code",
    "id": "IV-Rl9G6qLNf"
   },
   "outputs": [],
   "source": [
    "# Number of Epochs\n",
    "epochs = 6\n",
    "# Batch Size\n",
    "batch_size = 128\n",
    "# RNN Size\n",
    "rnn_size = 256\n",
    "# Number of Layers\n",
    "num_layers = 2\n",
    "# Embedding Size\n",
    "encoding_embedding_size = 256\n",
    "decoding_embedding_size = 256\n",
    "# Learning Rate\n",
    "learning_rate = 0.001\n",
    "# Dropout Keep Probability\n",
    "keep_probability = 1.0\n",
    "display_step = 50"
   ]
  },
  {
   "cell_type": "markdown",
   "metadata": {
    "colab_type": "text",
    "id": "rwBmrFWgqLNi"
   },
   "source": [
    "### Build the Graph\n",
    "Build the graph using the neural network you implemented."
   ]
  },
  {
   "cell_type": "code",
   "execution_count": 0,
   "metadata": {
    "colab": {},
    "colab_type": "code",
    "id": "6MCE18_WqLNj"
   },
   "outputs": [],
   "source": [
    "\n",
    "import os\n",
    "#os.mkdir('checkpoints')\n",
    "save_path = 'checkpoints/dev'\n",
    "\n",
    "(source_int_text, target_int_text), (source_vocab_to_int, target_vocab_to_int), _ = helper.load_preprocess()\n",
    "\n",
    "\n",
    "max_target_sentence_length = max([len(sentence) for sentence in source_int_text])\n",
    "\n",
    "train_graph = tf.Graph()\n",
    "\n",
    "with train_graph.as_default():\n",
    "  \n",
    "    input_data, targets, lr, keep_prob, target_sequence_length, max_target_sequence_length, source_sequence_length = model_inputs()\n",
    "\n",
    "    sequence_length = tf.placeholder_with_default(max_target_sentence_length, None, name='sequence_length')\n",
    "    \n",
    "    input_shape = tf.shape(input_data)\n",
    "    \n",
    "    \n",
    "    #train_logits, inference_logits = seq2seq_model(tf.reverse(input_data, [-1]),\n",
    "    \n",
    "    train_logits, inference_logits = seq2seq_model(input_data,\n",
    "                                                   targets,\n",
    "                                                   keep_prob,\n",
    "                                                   batch_size,\n",
    "                                                   source_sequence_length,\n",
    "                                                   target_sequence_length,\n",
    "                                                   max_target_sequence_length,\n",
    "                                                   len(source_vocab_to_int),\n",
    "                                                   len(target_vocab_to_int),\n",
    "                                                   encoding_embedding_size,\n",
    "                                                   decoding_embedding_size,\n",
    "                                                   rnn_size,\n",
    "                                                   num_layers,\n",
    "                                                   target_vocab_to_int)\n",
    "\n",
    "\n",
    "    training_logits = tf.identity(train_logits.rnn_output, name='logits')\n",
    "    \n",
    "    \n",
    "    inference_logits = tf.identity(inference_logits.sample_id, name='predictions')\n",
    "   \n",
    "  \n",
    "    #the idea of masks places True on all specified range and false for everything outside the mask\n",
    "    #specifying the maximum sentence enables the mask form a fixed length of that size.\n",
    "    \n",
    "    masks = tf.sequence_mask(target_sequence_length, max_target_sequence_length, dtype=tf.float32, name='masks')\n",
    "\n",
    "      \n",
    "   #the idea of masks weights importance on the actual sentence and weights padded sentences with zeros.\n",
    "   #set all valid timesteps to 1 and all padded timesteps to 0,\n",
    "  \n",
    "    with tf.name_scope(\"optimization\"):\n",
    "      \n",
    "        # Loss function\n",
    "     \n",
    "        cost = tf.contrib.seq2seq.sequence_loss(\n",
    "            training_logits,\n",
    "            targets,\n",
    "            masks)\n",
    "\n",
    "        # Optimizer\n",
    "        optimizer = tf.train.AdamOptimizer(lr)\n",
    "\n",
    "        # Gradient Clipping\n",
    "        #compute the gradients here\n",
    "        gradients = optimizer.compute_gradients(cost)\n",
    "        \n",
    "        #feed the computed gradients and clip within speciifed value\n",
    "        capped_gradients = [(tf.clip_by_value(grad, -1., 1.), var) for grad, var in gradients if grad is not None]\n",
    "        \n",
    "        #apply the capped gradients updates to optimizer for weight update with capped gradients/put back the gradients \n",
    "        #to optimizer\n",
    "        train_op = optimizer.apply_gradients(capped_gradients)\n"
   ]
  },
  {
   "cell_type": "code",
   "execution_count": 0,
   "metadata": {
    "colab": {
     "base_uri": "https://localhost:8080/",
     "height": 34
    },
    "colab_type": "code",
    "id": "2XubLqET-vzh",
    "outputId": "94f78b76-4213-4af4-f386-ba35e43574b3"
   },
   "outputs": [
    {
     "data": {
      "text/plain": [
       "<function posix.listdir>"
      ]
     },
     "execution_count": 53,
     "metadata": {
      "tags": []
     },
     "output_type": "execute_result"
    }
   ],
   "source": [
    "#import os\n",
    "\n",
    "#os.mkdir('checkpoints')\n",
    "\n",
    "os.listdir\n",
    "\n"
   ]
  },
  {
   "cell_type": "markdown",
   "metadata": {
    "colab_type": "text",
    "id": "Gjz_EbRBqLNm"
   },
   "source": [
    "Batch and pad the source and target sequences"
   ]
  },
  {
   "cell_type": "code",
   "execution_count": 0,
   "metadata": {
    "colab": {},
    "colab_type": "code",
    "id": "BG55fucmqLNn"
   },
   "outputs": [],
   "source": [
    "\"\"\"\n",
    "DON'T MODIFY ANYTHING IN THIS CELL\n",
    "\"\"\"\n",
    "def pad_sentence_batch(sentence_batch, pad_int):\n",
    "    \"\"\"Pad sentences with <PAD> so that each sentence of a batch has the same length\"\"\"\n",
    "    max_sentence = max([len(sentence) for sentence in sentence_batch])\n",
    "    \n",
    "    #check the difference between max sentence and sentences, create pads size of the difference\n",
    "    #add the pads to complete the sentence mength\n",
    "    \n",
    "    return [sentence + [pad_int] * (max_sentence - len(sentence)) for sentence in sentence_batch]\n",
    "\n",
    "\n",
    "def get_batches(sources, targets, batch_size, source_pad_int, target_pad_int):\n",
    "    \"\"\"Batch targets, sources, and the lengths of their sentences together\"\"\"\n",
    "    for batch_i in range(0, len(sources)//batch_size):\n",
    "        start_i = batch_i * batch_size\n",
    "\n",
    "        # Slice the right amount for the batch\n",
    "        sources_batch = sources[start_i:start_i + batch_size]\n",
    "        targets_batch = targets[start_i:start_i + batch_size]\n",
    "\n",
    "        # Pad\n",
    "        pad_sources_batch = np.array(pad_sentence_batch(sources_batch, source_pad_int))\n",
    "        pad_targets_batch = np.array(pad_sentence_batch(targets_batch, target_pad_int))\n",
    "\n",
    "        # Need the lengths for the _lengths parameters\n",
    "        pad_targets_lengths = []\n",
    "        for target in pad_targets_batch:\n",
    "            pad_targets_lengths.append(len(target))\n",
    "\n",
    "        pad_source_lengths = []\n",
    "        for source in pad_sources_batch:\n",
    "            pad_source_lengths.append(len(source))\n",
    "\n",
    "        yield pad_sources_batch, pad_targets_batch, pad_source_lengths, pad_targets_lengths\n"
   ]
  },
  {
   "cell_type": "markdown",
   "metadata": {
    "colab_type": "text",
    "id": "z4B9dGcRqLNu"
   },
   "source": [
    "### Train\n",
    "Train the neural network on the preprocessed data. If you have a hard time getting a good loss, check the forms to see if anyone is having the same problem."
   ]
  },
  {
   "cell_type": "code",
   "execution_count": 187,
   "metadata": {
    "colab": {
     "base_uri": "https://localhost:8080/",
     "height": 1000
    },
    "colab_type": "code",
    "id": "GWViaQZOqLNx",
    "outputId": "7c0c8db7-26b4-4d28-c48c-bad316aa0da5",
    "scrolled": true
   },
   "outputs": [
    {
     "name": "stdout",
     "output_type": "stream",
     "text": [
      "Epoch   0 Batch   50/1077 - Train Accuracy: 0.3523, Validation Accuracy: 0.4237, Loss: 2.1705\n",
      "Epoch   0 Batch  100/1077 - Train Accuracy: 0.3867, Validation Accuracy: 0.4439, Loss: 1.3223\n",
      "Epoch   0 Batch  150/1077 - Train Accuracy: 0.5257, Validation Accuracy: 0.5330, Loss: 0.9481\n",
      "Epoch   0 Batch  200/1077 - Train Accuracy: 0.5035, Validation Accuracy: 0.5664, Loss: 0.8584\n",
      "Epoch   0 Batch  250/1077 - Train Accuracy: 0.5692, Validation Accuracy: 0.5792, Loss: 0.6687\n",
      "Epoch   0 Batch  300/1077 - Train Accuracy: 0.5683, Validation Accuracy: 0.5863, Loss: 0.6794\n",
      "Epoch   0 Batch  350/1077 - Train Accuracy: 0.5844, Validation Accuracy: 0.5835, Loss: 0.6439\n",
      "Epoch   0 Batch  400/1077 - Train Accuracy: 0.5941, Validation Accuracy: 0.5966, Loss: 0.5929\n",
      "Epoch   0 Batch  450/1077 - Train Accuracy: 0.5691, Validation Accuracy: 0.6072, Loss: 0.5364\n",
      "Epoch   0 Batch  500/1077 - Train Accuracy: 0.5926, Validation Accuracy: 0.6165, Loss: 0.5312\n",
      "Epoch   0 Batch  550/1077 - Train Accuracy: 0.6188, Validation Accuracy: 0.6484, Loss: 0.5339\n",
      "Epoch   0 Batch  600/1077 - Train Accuracy: 0.6477, Validation Accuracy: 0.6570, Loss: 0.4534\n",
      "Epoch   0 Batch  650/1077 - Train Accuracy: 0.5926, Validation Accuracy: 0.6470, Loss: 0.4997\n",
      "Epoch   0 Batch  700/1077 - Train Accuracy: 0.6027, Validation Accuracy: 0.6286, Loss: 0.4436\n",
      "Epoch   0 Batch  750/1077 - Train Accuracy: 0.6785, Validation Accuracy: 0.6626, Loss: 0.4091\n",
      "Epoch   0 Batch  800/1077 - Train Accuracy: 0.6996, Validation Accuracy: 0.6871, Loss: 0.3928\n",
      "Epoch   0 Batch  850/1077 - Train Accuracy: 0.6853, Validation Accuracy: 0.6768, Loss: 0.3834\n",
      "Epoch   0 Batch  900/1077 - Train Accuracy: 0.7160, Validation Accuracy: 0.7024, Loss: 0.3647\n",
      "Epoch   0 Batch  950/1077 - Train Accuracy: 0.7176, Validation Accuracy: 0.7262, Loss: 0.3012\n",
      "Epoch   0 Batch 1000/1077 - Train Accuracy: 0.7660, Validation Accuracy: 0.7635, Loss: 0.2712\n",
      "Epoch   0 Batch 1050/1077 - Train Accuracy: 0.7211, Validation Accuracy: 0.7663, Loss: 0.2784\n",
      "Epoch   1 Batch   50/1077 - Train Accuracy: 0.8078, Validation Accuracy: 0.7915, Loss: 0.2405\n",
      "Epoch   1 Batch  100/1077 - Train Accuracy: 0.8215, Validation Accuracy: 0.7997, Loss: 0.2097\n",
      "Epoch   1 Batch  150/1077 - Train Accuracy: 0.8304, Validation Accuracy: 0.8203, Loss: 0.1929\n",
      "Epoch   1 Batch  200/1077 - Train Accuracy: 0.8359, Validation Accuracy: 0.8452, Loss: 0.1929\n",
      "Epoch   1 Batch  250/1077 - Train Accuracy: 0.8480, Validation Accuracy: 0.8413, Loss: 0.1447\n",
      "Epoch   1 Batch  300/1077 - Train Accuracy: 0.9017, Validation Accuracy: 0.8860, Loss: 0.1292\n",
      "Epoch   1 Batch  350/1077 - Train Accuracy: 0.8566, Validation Accuracy: 0.8622, Loss: 0.1297\n",
      "Epoch   1 Batch  400/1077 - Train Accuracy: 0.8863, Validation Accuracy: 0.8643, Loss: 0.1220\n",
      "Epoch   1 Batch  450/1077 - Train Accuracy: 0.8988, Validation Accuracy: 0.8420, Loss: 0.0930\n",
      "Epoch   1 Batch  500/1077 - Train Accuracy: 0.9207, Validation Accuracy: 0.9016, Loss: 0.0779\n",
      "Epoch   1 Batch  550/1077 - Train Accuracy: 0.8715, Validation Accuracy: 0.8736, Loss: 0.0801\n",
      "Epoch   1 Batch  600/1077 - Train Accuracy: 0.9115, Validation Accuracy: 0.9148, Loss: 0.0746\n",
      "Epoch   1 Batch  650/1077 - Train Accuracy: 0.9395, Validation Accuracy: 0.8938, Loss: 0.0743\n",
      "Epoch   1 Batch  700/1077 - Train Accuracy: 0.9750, Validation Accuracy: 0.8931, Loss: 0.0534\n",
      "Epoch   1 Batch  750/1077 - Train Accuracy: 0.9199, Validation Accuracy: 0.9158, Loss: 0.0629\n",
      "Epoch   1 Batch  800/1077 - Train Accuracy: 0.9027, Validation Accuracy: 0.9094, Loss: 0.0584\n",
      "Epoch   1 Batch  850/1077 - Train Accuracy: 0.8869, Validation Accuracy: 0.9187, Loss: 0.0807\n",
      "Epoch   1 Batch  900/1077 - Train Accuracy: 0.9305, Validation Accuracy: 0.8999, Loss: 0.0783\n",
      "Epoch   1 Batch  950/1077 - Train Accuracy: 0.9356, Validation Accuracy: 0.9212, Loss: 0.0521\n",
      "Epoch   1 Batch 1000/1077 - Train Accuracy: 0.9423, Validation Accuracy: 0.9062, Loss: 0.0453\n",
      "Epoch   1 Batch 1050/1077 - Train Accuracy: 0.9598, Validation Accuracy: 0.9318, Loss: 0.0394\n",
      "Epoch   2 Batch   50/1077 - Train Accuracy: 0.9270, Validation Accuracy: 0.9482, Loss: 0.0457\n",
      "Epoch   2 Batch  100/1077 - Train Accuracy: 0.9582, Validation Accuracy: 0.9112, Loss: 0.0382\n",
      "Epoch   2 Batch  150/1077 - Train Accuracy: 0.9338, Validation Accuracy: 0.9350, Loss: 0.0446\n",
      "Epoch   2 Batch  200/1077 - Train Accuracy: 0.9543, Validation Accuracy: 0.9357, Loss: 0.0449\n",
      "Epoch   2 Batch  250/1077 - Train Accuracy: 0.9339, Validation Accuracy: 0.9315, Loss: 0.0353\n",
      "Epoch   2 Batch  300/1077 - Train Accuracy: 0.9433, Validation Accuracy: 0.9176, Loss: 0.0345\n",
      "Epoch   2 Batch  350/1077 - Train Accuracy: 0.9605, Validation Accuracy: 0.9315, Loss: 0.0362\n",
      "Epoch   2 Batch  400/1077 - Train Accuracy: 0.9480, Validation Accuracy: 0.9545, Loss: 0.0444\n",
      "Epoch   2 Batch  450/1077 - Train Accuracy: 0.9641, Validation Accuracy: 0.9350, Loss: 0.0348\n",
      "Epoch   2 Batch  500/1077 - Train Accuracy: 0.9555, Validation Accuracy: 0.9371, Loss: 0.0272\n",
      "Epoch   2 Batch  550/1077 - Train Accuracy: 0.9359, Validation Accuracy: 0.9538, Loss: 0.0339\n",
      "Epoch   2 Batch  600/1077 - Train Accuracy: 0.9606, Validation Accuracy: 0.9634, Loss: 0.0346\n",
      "Epoch   2 Batch  650/1077 - Train Accuracy: 0.9711, Validation Accuracy: 0.9517, Loss: 0.0328\n",
      "Epoch   2 Batch  700/1077 - Train Accuracy: 0.9816, Validation Accuracy: 0.9535, Loss: 0.0220\n",
      "Epoch   2 Batch  750/1077 - Train Accuracy: 0.9480, Validation Accuracy: 0.9521, Loss: 0.0309\n",
      "Epoch   2 Batch  800/1077 - Train Accuracy: 0.9680, Validation Accuracy: 0.9588, Loss: 0.0276\n",
      "Epoch   2 Batch  850/1077 - Train Accuracy: 0.9479, Validation Accuracy: 0.9613, Loss: 0.0478\n",
      "Epoch   2 Batch  900/1077 - Train Accuracy: 0.9680, Validation Accuracy: 0.9428, Loss: 0.0425\n",
      "Epoch   2 Batch  950/1077 - Train Accuracy: 0.9632, Validation Accuracy: 0.9528, Loss: 0.0243\n",
      "Epoch   2 Batch 1000/1077 - Train Accuracy: 0.9661, Validation Accuracy: 0.9386, Loss: 0.0269\n",
      "Epoch   2 Batch 1050/1077 - Train Accuracy: 0.9801, Validation Accuracy: 0.9563, Loss: 0.0182\n",
      "Epoch   3 Batch   50/1077 - Train Accuracy: 0.9684, Validation Accuracy: 0.9510, Loss: 0.0259\n",
      "Epoch   3 Batch  100/1077 - Train Accuracy: 0.9758, Validation Accuracy: 0.9506, Loss: 0.0219\n",
      "Epoch   3 Batch  150/1077 - Train Accuracy: 0.9565, Validation Accuracy: 0.9606, Loss: 0.0267\n",
      "Epoch   3 Batch  200/1077 - Train Accuracy: 0.9680, Validation Accuracy: 0.9652, Loss: 0.0264\n",
      "Epoch   3 Batch  250/1077 - Train Accuracy: 0.9513, Validation Accuracy: 0.9698, Loss: 0.0240\n",
      "Epoch   3 Batch  300/1077 - Train Accuracy: 0.9490, Validation Accuracy: 0.9382, Loss: 0.0251\n",
      "Epoch   3 Batch  350/1077 - Train Accuracy: 0.9664, Validation Accuracy: 0.9585, Loss: 0.0232\n",
      "Epoch   3 Batch  400/1077 - Train Accuracy: 0.9496, Validation Accuracy: 0.9528, Loss: 0.0301\n",
      "Epoch   3 Batch  450/1077 - Train Accuracy: 0.9664, Validation Accuracy: 0.9428, Loss: 0.0263\n",
      "Epoch   3 Batch  500/1077 - Train Accuracy: 0.9797, Validation Accuracy: 0.9620, Loss: 0.0158\n",
      "Epoch   3 Batch  550/1077 - Train Accuracy: 0.9516, Validation Accuracy: 0.9517, Loss: 0.0191\n",
      "Epoch   3 Batch  600/1077 - Train Accuracy: 0.9673, Validation Accuracy: 0.9709, Loss: 0.0276\n",
      "Epoch   3 Batch  650/1077 - Train Accuracy: 0.9793, Validation Accuracy: 0.9666, Loss: 0.0219\n",
      "Epoch   3 Batch  700/1077 - Train Accuracy: 0.9797, Validation Accuracy: 0.9517, Loss: 0.0155\n",
      "Epoch   3 Batch  750/1077 - Train Accuracy: 0.9730, Validation Accuracy: 0.9727, Loss: 0.0299\n",
      "Epoch   3 Batch  800/1077 - Train Accuracy: 0.9801, Validation Accuracy: 0.9560, Loss: 0.0197\n",
      "Epoch   3 Batch  850/1077 - Train Accuracy: 0.9621, Validation Accuracy: 0.9673, Loss: 0.0327\n",
      "Epoch   3 Batch  900/1077 - Train Accuracy: 0.9754, Validation Accuracy: 0.9521, Loss: 0.0327\n",
      "Epoch   3 Batch  950/1077 - Train Accuracy: 0.9747, Validation Accuracy: 0.9691, Loss: 0.0164\n",
      "Epoch   3 Batch 1000/1077 - Train Accuracy: 0.9717, Validation Accuracy: 0.9609, Loss: 0.0192\n",
      "Epoch   3 Batch 1050/1077 - Train Accuracy: 0.9938, Validation Accuracy: 0.9524, Loss: 0.0142\n",
      "Epoch   4 Batch   50/1077 - Train Accuracy: 0.9719, Validation Accuracy: 0.9599, Loss: 0.0220\n",
      "Epoch   4 Batch  100/1077 - Train Accuracy: 0.9883, Validation Accuracy: 0.9538, Loss: 0.0126\n",
      "Epoch   4 Batch  150/1077 - Train Accuracy: 0.9751, Validation Accuracy: 0.9553, Loss: 0.0187\n",
      "Epoch   4 Batch  200/1077 - Train Accuracy: 0.9652, Validation Accuracy: 0.9616, Loss: 0.0188\n",
      "Epoch   4 Batch  250/1077 - Train Accuracy: 0.9620, Validation Accuracy: 0.9680, Loss: 0.0185\n",
      "Epoch   4 Batch  300/1077 - Train Accuracy: 0.9655, Validation Accuracy: 0.9482, Loss: 0.0226\n",
      "Epoch   4 Batch  350/1077 - Train Accuracy: 0.9773, Validation Accuracy: 0.9521, Loss: 0.0183\n",
      "Epoch   4 Batch  400/1077 - Train Accuracy: 0.9605, Validation Accuracy: 0.9602, Loss: 0.0196\n",
      "Epoch   4 Batch  450/1077 - Train Accuracy: 0.9742, Validation Accuracy: 0.9563, Loss: 0.0187\n",
      "Epoch   4 Batch  500/1077 - Train Accuracy: 0.9828, Validation Accuracy: 0.9741, Loss: 0.0115\n",
      "Epoch   4 Batch  550/1077 - Train Accuracy: 0.9582, Validation Accuracy: 0.9719, Loss: 0.0156\n",
      "Epoch   4 Batch  600/1077 - Train Accuracy: 0.9751, Validation Accuracy: 0.9656, Loss: 0.0236\n",
      "Epoch   4 Batch  650/1077 - Train Accuracy: 0.9758, Validation Accuracy: 0.9815, Loss: 0.0173\n",
      "Epoch   4 Batch  700/1077 - Train Accuracy: 0.9883, Validation Accuracy: 0.9677, Loss: 0.0122\n",
      "Epoch   4 Batch  750/1077 - Train Accuracy: 0.9777, Validation Accuracy: 0.9670, Loss: 0.0213\n",
      "Epoch   4 Batch  800/1077 - Train Accuracy: 0.9879, Validation Accuracy: 0.9705, Loss: 0.0134\n",
      "Epoch   4 Batch  850/1077 - Train Accuracy: 0.9621, Validation Accuracy: 0.9663, Loss: 0.0269\n",
      "Epoch   4 Batch  900/1077 - Train Accuracy: 0.9715, Validation Accuracy: 0.9790, Loss: 0.0208\n",
      "Epoch   4 Batch  950/1077 - Train Accuracy: 0.9870, Validation Accuracy: 0.9695, Loss: 0.0094\n",
      "Epoch   4 Batch 1000/1077 - Train Accuracy: 0.9680, Validation Accuracy: 0.9719, Loss: 0.0158\n",
      "Epoch   4 Batch 1050/1077 - Train Accuracy: 0.9832, Validation Accuracy: 0.9659, Loss: 0.0095\n",
      "Epoch   5 Batch   50/1077 - Train Accuracy: 0.9816, Validation Accuracy: 0.9727, Loss: 0.0157\n",
      "Epoch   5 Batch  100/1077 - Train Accuracy: 0.9840, Validation Accuracy: 0.9680, Loss: 0.0122\n",
      "Epoch   5 Batch  150/1077 - Train Accuracy: 0.9754, Validation Accuracy: 0.9577, Loss: 0.0136\n",
      "Epoch   5 Batch  200/1077 - Train Accuracy: 0.9754, Validation Accuracy: 0.9759, Loss: 0.0138\n",
      "Epoch   5 Batch  250/1077 - Train Accuracy: 0.9677, Validation Accuracy: 0.9638, Loss: 0.0140\n",
      "Epoch   5 Batch  300/1077 - Train Accuracy: 0.9753, Validation Accuracy: 0.9705, Loss: 0.0146\n",
      "Epoch   5 Batch  350/1077 - Train Accuracy: 0.9797, Validation Accuracy: 0.9609, Loss: 0.0113\n",
      "Epoch   5 Batch  400/1077 - Train Accuracy: 0.9793, Validation Accuracy: 0.9698, Loss: 0.0128\n",
      "Epoch   5 Batch  450/1077 - Train Accuracy: 0.9758, Validation Accuracy: 0.9759, Loss: 0.0162\n",
      "Epoch   5 Batch  500/1077 - Train Accuracy: 0.9840, Validation Accuracy: 0.9773, Loss: 0.0092\n",
      "Epoch   5 Batch  550/1077 - Train Accuracy: 0.9609, Validation Accuracy: 0.9702, Loss: 0.0128\n",
      "Epoch   5 Batch  600/1077 - Train Accuracy: 0.9728, Validation Accuracy: 0.9719, Loss: 0.0132\n",
      "Epoch   5 Batch  650/1077 - Train Accuracy: 0.9895, Validation Accuracy: 0.9769, Loss: 0.0111\n",
      "Epoch   5 Batch  700/1077 - Train Accuracy: 0.9926, Validation Accuracy: 0.9698, Loss: 0.0091\n",
      "Epoch   5 Batch  750/1077 - Train Accuracy: 0.9820, Validation Accuracy: 0.9776, Loss: 0.0149\n",
      "Epoch   5 Batch  800/1077 - Train Accuracy: 0.9926, Validation Accuracy: 0.9634, Loss: 0.0094\n",
      "Epoch   5 Batch  850/1077 - Train Accuracy: 0.9725, Validation Accuracy: 0.9691, Loss: 0.0279\n",
      "Epoch   5 Batch  900/1077 - Train Accuracy: 0.9758, Validation Accuracy: 0.9766, Loss: 0.0151\n",
      "Epoch   5 Batch  950/1077 - Train Accuracy: 0.9758, Validation Accuracy: 0.9695, Loss: 0.0085\n",
      "Epoch   5 Batch 1000/1077 - Train Accuracy: 0.9803, Validation Accuracy: 0.9748, Loss: 0.0124\n",
      "Epoch   5 Batch 1050/1077 - Train Accuracy: 0.9949, Validation Accuracy: 0.9659, Loss: 0.0077\n",
      "Model Trained and Saved\n"
     ]
    }
   ],
   "source": [
    "\"\"\"\n",
    "DON'T MODIFY ANYTHING IN THIS CELL\n",
    "\"\"\"\n",
    "def get_accuracy(target, logits):\n",
    "    \"\"\"\n",
    "    Calculate accuracy\n",
    "    \"\"\"\n",
    "    \n",
    "    #padding incase logits or targets aren't the same size\n",
    "    #adding pads to the back of target or logit sequence length\n",
    "    \n",
    "    max_seq = max(target.shape[1], logits.shape[1])\n",
    "    if max_seq - target.shape[1] :\n",
    "        target = np.pad(\n",
    "            target,\n",
    "            [(0,0),(0,max_seq - target.shape[1])],\n",
    "            'constant')\n",
    "    if max_seq - logits.shape[1]:\n",
    "        logits = np.pad(\n",
    "            logits,\n",
    "            [(0,0),(0,max_seq - logits.shape[1])],\n",
    "            'constant')\n",
    "\n",
    "    return np.mean(np.equal(target, logits))\n",
    "\n",
    "# Split data to training and validation sets\n",
    "train_source = source_int_text[batch_size:]\n",
    "train_target = target_int_text[batch_size:]\n",
    "valid_source = source_int_text[:batch_size]\n",
    "valid_target = target_int_text[:batch_size]\n",
    "(valid_sources_batch, valid_targets_batch, valid_sources_lengths, valid_targets_lengths ) = next(get_batches(valid_source,\n",
    "                                                                                                             valid_target,\n",
    "                                                                                                             batch_size,\n",
    "                                                                                                             source_vocab_to_int['<PAD>'],\n",
    "                                                                                                             target_vocab_to_int['<PAD>']))                                                                                                  \n",
    "with tf.Session(graph=train_graph) as sess:\n",
    "    sess.run(tf.global_variables_initializer())\n",
    "\n",
    "    for epoch_i in range(epochs):\n",
    "        for batch_i, (source_batch, target_batch, sources_lengths, targets_lengths) in enumerate(\n",
    "                get_batches(train_source, train_target, batch_size,\n",
    "                            source_vocab_to_int['<PAD>'],\n",
    "                            target_vocab_to_int['<PAD>'])):\n",
    "\n",
    "            _, loss = sess.run(\n",
    "                [train_op, cost],\n",
    "                {input_data: source_batch,\n",
    "                 targets: target_batch,\n",
    "                 lr: learning_rate,\n",
    "                 target_sequence_length: targets_lengths,\n",
    "                 source_sequence_length: sources_lengths,\n",
    "                 keep_prob: keep_probability})\n",
    "\n",
    "\n",
    "            if batch_i % display_step == 0 and batch_i > 0:\n",
    "\n",
    "\n",
    "                batch_train_logits = sess.run(\n",
    "                    inference_logits,\n",
    "                    {input_data: source_batch,\n",
    "                     source_sequence_length: sources_lengths,\n",
    "                     target_sequence_length: targets_lengths,\n",
    "                     keep_prob: 1.0})\n",
    "\n",
    "\n",
    "                batch_valid_logits = sess.run(\n",
    "                    inference_logits,\n",
    "                    {input_data: valid_sources_batch,\n",
    "                     source_sequence_length: valid_sources_lengths,\n",
    "                     target_sequence_length: valid_targets_lengths,\n",
    "                     keep_prob: 1.0})\n",
    "\n",
    "                train_acc = get_accuracy(target_batch, batch_train_logits)\n",
    "\n",
    "                valid_acc = get_accuracy(valid_targets_batch, batch_valid_logits)\n",
    "\n",
    "                print('Epoch {:>3} Batch {:>4}/{} - Train Accuracy: {:>6.4f}, Validation Accuracy: {:>6.4f}, Loss: {:>6.4f}'\n",
    "                      .format(epoch_i, batch_i, len(source_int_text) // batch_size, train_acc, valid_acc, loss))\n",
    "\n",
    "            \n",
    "\n",
    "    # Save Model\n",
    "    saver = tf.train.Saver()\n",
    "    saver.save(sess, save_path)\n",
    "    print('Model Trained and Saved')"
   ]
  },
  {
   "cell_type": "code",
   "execution_count": 0,
   "metadata": {
    "colab": {},
    "colab_type": "code",
    "id": "deSArhDyU-QS"
   },
   "outputs": [],
   "source": [
    "x = [1,2 ]"
   ]
  },
  {
   "cell_type": "markdown",
   "metadata": {
    "colab_type": "text",
    "id": "bOrBaVdKqLN5"
   },
   "source": [
    "### Save Parameters\n",
    "Save the `batch_size` and `save_path` parameters for inference."
   ]
  },
  {
   "cell_type": "code",
   "execution_count": 0,
   "metadata": {
    "colab": {},
    "colab_type": "code",
    "id": "G_1fcOsJqLN6"
   },
   "outputs": [],
   "source": [
    "\"\"\"\n",
    "DON'T MODIFY ANYTHING IN THIS CELL\n",
    "\"\"\"\n",
    "# Save parameters for checkpoint\n",
    "helper.save_params(save_path)"
   ]
  },
  {
   "cell_type": "markdown",
   "metadata": {
    "colab_type": "text",
    "id": "esTDM-bhqLN-"
   },
   "source": [
    "# Checkpoint"
   ]
  },
  {
   "cell_type": "code",
   "execution_count": 0,
   "metadata": {
    "colab": {},
    "colab_type": "code",
    "id": "95FmNfSMqLN_"
   },
   "outputs": [],
   "source": [
    "\"\"\"\n",
    "DON'T MODIFY ANYTHING IN THIS CELL\n",
    "\"\"\"\n",
    "import tensorflow as tf\n",
    "import numpy as np\n",
    "import helper\n",
    "import problem_unittests as tests\n",
    "\n",
    "_, (source_vocab_to_int, target_vocab_to_int), (source_int_to_vocab, target_int_to_vocab) = helper.load_preprocess()\n",
    "load_path = helper.load_params()"
   ]
  },
  {
   "cell_type": "markdown",
   "metadata": {
    "colab_type": "text",
    "id": "Zd0gdnbWqLOE"
   },
   "source": [
    "## Sentence to Sequence\n",
    "To feed a sentence into the model for translation, you first need to preprocess it.  Implement the function `sentence_to_seq()` to preprocess new sentences.\n",
    "\n",
    "- Convert the sentence to lowercase\n",
    "- Convert words into ids using `vocab_to_int`\n",
    " - Convert words not in the vocabulary, to the `<UNK>` word id."
   ]
  },
  {
   "cell_type": "code",
   "execution_count": 193,
   "metadata": {
    "colab": {
     "base_uri": "https://localhost:8080/",
     "height": 34
    },
    "colab_type": "code",
    "id": "szUszjx5qLOF",
    "outputId": "b32c9088-f17e-4785-c345-77533ec68820"
   },
   "outputs": [
    {
     "name": "stdout",
     "output_type": "stream",
     "text": [
      "Tests Passed\n"
     ]
    }
   ],
   "source": [
    "def sentence_to_seq(sentence, vocab_to_int):\n",
    "    \"\"\"\n",
    "    Convert a sentence to a sequence of ids\n",
    "    :param sentence: String\n",
    "    :param vocab_to_int: Dictionary to go from the words to an id\n",
    "    :return: List of word ids\n",
    "    \"\"\"\n",
    "    # TODO: Implement Function\n",
    "    \n",
    "    sentence = sentence.lower()\n",
    "    \n",
    "    word_ids = [vocab_to_int.get(word, vocab_to_int['<UNK>']) for word in sentence.split()]\n",
    "    \n",
    "    return word_ids\n",
    "\n",
    "\n",
    "\"\"\"\n",
    "DON'T MODIFY ANYTHING IN THIS CELL THAT IS BELOW THIS LINE\n",
    "\"\"\"\n",
    "tests.test_sentence_to_seq(sentence_to_seq)"
   ]
  },
  {
   "cell_type": "code",
   "execution_count": 192,
   "metadata": {
    "colab": {
     "base_uri": "https://localhost:8080/",
     "height": 34
    },
    "colab_type": "code",
    "id": "hwjsYJBmhkZh",
    "outputId": "c68a0172-92f3-4e96-e929-39d5410d0b2f"
   },
   "outputs": [
    {
     "data": {
      "text/plain": [
       "'te fkdd j'"
      ]
     },
     "execution_count": 192,
     "metadata": {
      "tags": []
     },
     "output_type": "execute_result"
    }
   ],
   "source": [
    "r = \"te fkdd J\"\n",
    "\n",
    "r.lower()"
   ]
  },
  {
   "cell_type": "markdown",
   "metadata": {
    "colab_type": "text",
    "id": "eP6yvJnRqLOI"
   },
   "source": [
    "## Translate\n",
    "This will translate `translate_sentence` from English to French."
   ]
  },
  {
   "cell_type": "code",
   "execution_count": 195,
   "metadata": {
    "colab": {
     "base_uri": "https://localhost:8080/",
     "height": 156
    },
    "colab_type": "code",
    "id": "UHdC2orrqLOJ",
    "outputId": "d8bfa237-3409-44b6-df8f-fb54ea29161a"
   },
   "outputs": [
    {
     "name": "stdout",
     "output_type": "stream",
     "text": [
      "Input\n",
      "  Word Ids:      [162, 229, 25, 91, 35, 58, 173, 6, 226, 177, 25, 146, 118, 117, 161]\n",
      "  English Words: ['new', 'jersey', 'is', 'sometimes', 'quiet', 'during', 'autumn', ',', 'and', 'it', 'is', 'freezing', 'in', 'july', '.']\n",
      "\n",
      "Prediction\n",
      "  Word Ids:      [233, 77, 160, 259, 207, 308, 346, 354, 166, 272, 227, 328, 156, 63, 330, 1]\n",
      "  French Words: new jersey est parfois calme pendant l' automne , et il gèle en juillet . <EOS>\n"
     ]
    }
   ],
   "source": [
    "translate_sentence = 'new jersey is sometimes quiet during autumn , and it is freezing in july .'\n",
    "\n",
    "\n",
    "\"\"\"\n",
    "DON'T MODIFY ANYTHING IN THIS CELL\n",
    "\"\"\"\n",
    "translate_sentence = sentence_to_seq(translate_sentence, source_vocab_to_int)\n",
    "\n",
    "loaded_graph = tf.Graph()\n",
    "with tf.Session(graph=loaded_graph) as sess:\n",
    "    # Load saved model\n",
    "    loader = tf.train.import_meta_graph(load_path + '.meta')\n",
    "    loader.restore(sess, load_path)\n",
    "\n",
    "    input_data = loaded_graph.get_tensor_by_name('input:0')\n",
    "    logits = loaded_graph.get_tensor_by_name('predictions:0')\n",
    "    target_sequence_length = loaded_graph.get_tensor_by_name('target_sequence_length:0')\n",
    "    source_sequence_length = loaded_graph.get_tensor_by_name('source_sequence_length:0')\n",
    "    keep_prob = loaded_graph.get_tensor_by_name('keep_prob:0')\n",
    "\n",
    "    translate_logits = sess.run(logits, {input_data: [translate_sentence]*batch_size,\n",
    "                                         target_sequence_length: [len(translate_sentence)*2]*batch_size,\n",
    "                                         source_sequence_length: [len(translate_sentence)]*batch_size,\n",
    "                                         keep_prob: 1.0})[0]\n",
    "\n",
    "print('Input')\n",
    "print('  Word Ids:      {}'.format([i for i in translate_sentence]))\n",
    "print('  English Words: {}'.format([source_int_to_vocab[i] for i in translate_sentence]))\n",
    "\n",
    "print('\\nPrediction')\n",
    "print('  Word Ids:      {}'.format([i for i in translate_logits]))\n",
    "print('  French Words: {}'.format(\" \".join([target_int_to_vocab[i] for i in translate_logits])))\n"
   ]
  },
  {
   "cell_type": "markdown",
   "metadata": {
    "colab_type": "text",
    "id": "fvCzhFsaqLON"
   },
   "source": [
    "## Imperfect Translation\n",
    "You might notice that some sentences translate better than others.  Since the dataset you're using only has a vocabulary of 227 English words of the thousands that you use, you're only going to see good results using these words.  For this project, you don't need a perfect translation. However, if you want to create a better translation model, you'll need better data.\n",
    "\n",
    "You can train on the [WMT10 French-English corpus](http://www.statmt.org/wmt10/training-giga-fren.tar).  This dataset has more vocabulary and richer in topics discussed.  However, this will take you days to train, so make sure you've a GPU and the neural network is performing well on dataset we provided.  Just make sure you play with the WMT10 corpus after you've submitted this project.\n",
    "## Submitting This Project\n",
    "When submitting this project, make sure to run all the cells before saving the notebook. Save the notebook file as \"dlnd_language_translation.ipynb\" and save it as a HTML file under \"File\" -> \"Download as\". Include the \"helper.py\" and \"problem_unittests.py\" files in your submission."
   ]
  }
 ],
 "metadata": {
  "accelerator": "GPU",
  "colab": {
   "collapsed_sections": [],
   "name": "dlnd_language_translation.ipynb",
   "provenance": [],
   "toc_visible": true,
   "version": "0.3.2"
  },
  "kernelspec": {
   "display_name": "Python 3",
   "language": "python",
   "name": "python3"
  },
  "language_info": {
   "codemirror_mode": {
    "name": "ipython",
    "version": 3
   },
   "file_extension": ".py",
   "mimetype": "text/x-python",
   "name": "python",
   "nbconvert_exporter": "python",
   "pygments_lexer": "ipython3",
   "version": "3.6.7"
  }
 },
 "nbformat": 4,
 "nbformat_minor": 1
}
