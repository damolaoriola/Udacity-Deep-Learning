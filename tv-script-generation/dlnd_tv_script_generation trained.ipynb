{
 "cells": [
  {
   "cell_type": "markdown",
   "metadata": {
    "colab_type": "text",
    "id": "-S2xRwM-leOn"
   },
   "source": [
    "# TV Script Generation\n",
    "In this project, you'll generate your own [Simpsons](https://en.wikipedia.org/wiki/The_Simpsons) TV scripts using RNNs.  You'll be using part of the [Simpsons dataset](https://www.kaggle.com/wcukierski/the-simpsons-by-the-data) of scripts from 27 seasons.  The Neural Network you'll build will generate a new TV script for a scene at [Moe's Tavern](https://simpsonswiki.com/wiki/Moe's_Tavern).\n",
    "## Get the Data\n",
    "The data is already provided for you.  You'll be using a subset of the original dataset.  It consists of only the scenes in Moe's Tavern.  This doesn't include other versions of the tavern, like \"Moe's Cavern\", \"Flaming Moe's\", \"Uncle Moe's Family Feed-Bag\", etc.."
   ]
  },
  {
   "cell_type": "code",
   "execution_count": 0,
   "metadata": {
    "colab": {},
    "colab_type": "code",
    "id": "GiaLLvtTleOo"
   },
   "outputs": [],
   "source": [
    "\"\"\"\n",
    "DON'T MODIFY ANYTHING IN THIS CELL\n",
    "\"\"\"\n",
    "import helper\n",
    "\n",
    "#!unzip data_simp\n",
    "\n",
    "data_dir = './data_simp/simpsons/moes_tavern_lines.txt'\n",
    "text = helper.load_data(data_dir)\n",
    "# Ignore notice, since we don't use it for analysing the data\n",
    "text = text[81:]"
   ]
  },
  {
   "cell_type": "markdown",
   "metadata": {
    "colab_type": "text",
    "id": "rZuF2i13leOw"
   },
   "source": [
    "## Explore the Data\n",
    "Play around with `view_sentence_range` to view different parts of the data."
   ]
  },
  {
   "cell_type": "code",
   "execution_count": 2,
   "metadata": {
    "colab": {
     "base_uri": "https://localhost:8080/",
     "height": 343
    },
    "colab_type": "code",
    "id": "l2UerXEmleO0",
    "outputId": "4dff0780-56b0-404b-f787-685f595b29af"
   },
   "outputs": [
    {
     "name": "stdout",
     "output_type": "stream",
     "text": [
      "Dataset Stats\n",
      "Roughly the number of unique words: 11492\n",
      "Number of scenes: 262\n",
      "Average number of sentences in each scene: 15.248091603053435\n",
      "Number of lines: 4257\n",
      "Average number of words in each line: 11.50434578341555\n",
      "\n",
      "The sentences 0 to 10:\n",
      "Moe_Szyslak: (INTO PHONE) Moe's Tavern. Where the elite meet to drink.\n",
      "Bart_Simpson: Eh, yeah, hello, is Mike there? Last name, Rotch.\n",
      "Moe_Szyslak: (INTO PHONE) Hold on, I'll check. (TO BARFLIES) Mike Rotch. Mike Rotch. Hey, has anybody seen Mike Rotch, lately?\n",
      "Moe_Szyslak: (INTO PHONE) Listen you little puke. One of these days I'm gonna catch you, and I'm gonna carve my name on your back with an ice pick.\n",
      "Moe_Szyslak: What's the matter Homer? You're not your normal effervescent self.\n",
      "Homer_Simpson: I got my problems, Moe. Give me another one.\n",
      "Moe_Szyslak: Homer, hey, you should not drink to forget your problems.\n",
      "Barney_Gumble: Yeah, you should only drink to enhance your social skills.\n",
      "\n",
      "\n"
     ]
    }
   ],
   "source": [
    "view_sentence_range = (0, 10)\n",
    "\n",
    "\"\"\"\n",
    "DON'T MODIFY ANYTHING IN THIS CELL\n",
    "\"\"\"\n",
    "import numpy as np\n",
    "\n",
    "print('Dataset Stats')\n",
    "print('Roughly the number of unique words: {}'.format(len({word: None for word in text.split()})))\n",
    "scenes = text.split('\\n\\n')\n",
    "print('Number of scenes: {}'.format(len(scenes)))\n",
    "sentence_count_scene = [scene.count('\\n') for scene in scenes]\n",
    "print('Average number of sentences in each scene: {}'.format(np.average(sentence_count_scene)))\n",
    "\n",
    "sentences = [sentence for scene in scenes for sentence in scene.split('\\n')]\n",
    "print('Number of lines: {}'.format(len(sentences)))\n",
    "word_count_sentence = [len(sentence.split()) for sentence in sentences]\n",
    "print('Average number of words in each line: {}'.format(np.average(word_count_sentence)))\n",
    "\n",
    "print()\n",
    "print('The sentences {} to {}:'.format(*view_sentence_range))\n",
    "print('\\n'.join(text.split('\\n')[view_sentence_range[0]:view_sentence_range[1]]))"
   ]
  },
  {
   "cell_type": "markdown",
   "metadata": {
    "colab_type": "text",
    "id": "xnsA-s8MleO3"
   },
   "source": [
    "## Implement Preprocessing Functions\n",
    "The first thing to do to any dataset is preprocessing.  Implement the following preprocessing functions below:\n",
    "- Lookup Table\n",
    "- Tokenize Punctuation\n",
    "\n",
    "### Lookup Table\n",
    "To create a word embedding, you first need to transform the words to ids.  In this function, create two dictionaries:\n",
    "- Dictionary to go from the words to an id, we'll call `vocab_to_int`\n",
    "- Dictionary to go from the id to word, we'll call `int_to_vocab`\n",
    "\n",
    "Return these dictionaries in the following tuple `(vocab_to_int, int_to_vocab)`"
   ]
  },
  {
   "cell_type": "code",
   "execution_count": 3,
   "metadata": {
    "colab": {
     "base_uri": "https://localhost:8080/",
     "height": 34
    },
    "colab_type": "code",
    "id": "qyHKCA7oleO4",
    "outputId": "fcb8c4ec-2492-46c8-83f2-451d78983922"
   },
   "outputs": [
    {
     "name": "stdout",
     "output_type": "stream",
     "text": [
      "Tests Passed\n"
     ]
    }
   ],
   "source": [
    "import numpy as np\n",
    "import problem_unittests as tests\n",
    "\n",
    "def create_lookup_tables(text):\n",
    "    \"\"\"\n",
    "    Create lookup tables for vocabulary\n",
    "    :param text: The text of tv scripts split into words\n",
    "    :return: A tuple of dicts (vocab_to_int, int_to_vocab)\n",
    "    \"\"\"\n",
    "    # TODO: Implement Function\n",
    "    \n",
    "    #encoding words as integers\n",
    "    vocab_to_int = {word:idx for idx, word in enumerate(set(text))}\n",
    "    \n",
    "    \n",
    "    #Dictionary mapping integers to words\n",
    "    int_to_vocab = {vocab_to_int[word] : word for word in text}\n",
    "    \n",
    "    \n",
    "    \n",
    "    return vocab_to_int, int_to_vocab\n",
    "\n",
    "\n",
    "\"\"\"\n",
    "DON'T MODIFY ANYTHING IN THIS CELL THAT IS BELOW THIS LINE\n",
    "\"\"\"\n",
    "tests.test_create_lookup_tables(create_lookup_tables)"
   ]
  },
  {
   "cell_type": "markdown",
   "metadata": {
    "colab_type": "text",
    "id": "rzQv5U7rleO7"
   },
   "source": [
    "### Tokenize Punctuation\n",
    "We'll be splitting the script into a word array using spaces as delimiters.  However, punctuations like periods and exclamation marks make it hard for the neural network to distinguish between the word \"bye\" and \"bye!\".\n",
    "\n",
    "Implement the function `token_lookup` to return a dict that will be used to tokenize symbols like \"!\" into \"||Exclamation_Mark||\".  Create a dictionary for the following symbols where the symbol is the key and value is the token:\n",
    "- Period ( . )\n",
    "- Comma ( , )\n",
    "- Quotation Mark ( \" )\n",
    "- Semicolon ( ; )\n",
    "- Exclamation mark ( ! )\n",
    "- Question mark ( ? )\n",
    "- Left Parentheses ( ( )\n",
    "- Right Parentheses ( ) )\n",
    "- Dash ( -- )\n",
    "- Return ( \\n )\n",
    "\n",
    "This dictionary will be used to token the symbols and add the delimiter (space) around it.  This separates the symbols as it's own word, making it easier for the neural network to predict on the next word. Make sure you don't use a token that could be confused as a word. Instead of using the token \"dash\", try using something like \"||dash||\"."
   ]
  },
  {
   "cell_type": "code",
   "execution_count": 4,
   "metadata": {
    "colab": {
     "base_uri": "https://localhost:8080/",
     "height": 34
    },
    "colab_type": "code",
    "id": "WM4aOxyzleO8",
    "outputId": "09aca43e-dc9d-43d9-b589-c6673ef36283"
   },
   "outputs": [
    {
     "name": "stdout",
     "output_type": "stream",
     "text": [
      "Tests Passed\n"
     ]
    }
   ],
   "source": [
    "def token_lookup():\n",
    "    \"\"\"\n",
    "    Generate a dict to turn punctuation into a token.\n",
    "    :return: Tokenize dictionary where the key is the punctuation and the value is the token\n",
    "    \"\"\"\n",
    "    # TODO: Implement Function\n",
    "    \n",
    "    \n",
    "    #tokenizing punctuations as tags \n",
    "    \n",
    "    punct_token = {'.' : \"||Period||\",  \n",
    "                   ',' : \"||Comma||\",  \n",
    "                   '\"' : \"||Quotation_Mark||\",  \n",
    "                   ';' : \"||Semicolon||\", \n",
    "                  '!'  : \"||Exclamation_mark||\",  \n",
    "                   '?' : \"||Question_mark||\",  \n",
    "                   '(' : \"||Left_Parentheses||\",\n",
    "                   ')' : \"||Right_Parentheses||\",\n",
    "                   '--' : \"||Dash||\",\n",
    "                   '\\n': \"||Return||\"}\n",
    "    \n",
    "    \n",
    "    return punct_token\n",
    "\n",
    "\"\"\"\n",
    "DON'T MODIFY ANYTHING IN THIS CELL THAT IS BELOW THIS LINE\n",
    "\"\"\"\n",
    "tests.test_tokenize(token_lookup)"
   ]
  },
  {
   "cell_type": "markdown",
   "metadata": {
    "colab_type": "text",
    "id": "clc6YLqDleO_"
   },
   "source": [
    "## Preprocess all the data and save it\n",
    "Running the code cell below will preprocess all the data and save it to file."
   ]
  },
  {
   "cell_type": "code",
   "execution_count": 0,
   "metadata": {
    "colab": {},
    "colab_type": "code",
    "id": "iJLc6CEplePA"
   },
   "outputs": [],
   "source": [
    "\"\"\"\n",
    "DON'T MODIFY ANYTHING IN THIS CELL\n",
    "\"\"\"\n",
    "# Preprocess Training, Validation, and Testing Data\n",
    "helper.preprocess_and_save_data(data_dir, token_lookup, create_lookup_tables)"
   ]
  },
  {
   "cell_type": "markdown",
   "metadata": {
    "colab_type": "text",
    "id": "vxcjB2VglePE"
   },
   "source": [
    "# Check Point\n",
    "This is your first checkpoint. If you ever decide to come back to this notebook or have to restart the notebook, you can start from here. The preprocessed data has been saved to disk."
   ]
  },
  {
   "cell_type": "code",
   "execution_count": 0,
   "metadata": {
    "colab": {},
    "colab_type": "code",
    "id": "AqEQdZmFlePG"
   },
   "outputs": [],
   "source": [
    "\"\"\"\n",
    "DON'T MODIFY ANYTHING IN THIS CELL\n",
    "\"\"\"\n",
    "import helper\n",
    "import numpy as np\n",
    "import problem_unittests as tests\n",
    "\n",
    "int_text, vocab_to_int, int_to_vocab, token_dict = helper.load_preprocess()"
   ]
  },
  {
   "cell_type": "code",
   "execution_count": 0,
   "metadata": {
    "colab": {},
    "colab_type": "code",
    "id": "qU2EzfPjlePM"
   },
   "outputs": [],
   "source": [
    "int_to_vocab"
   ]
  },
  {
   "cell_type": "markdown",
   "metadata": {
    "colab_type": "text",
    "id": "VsbECu7JlePP"
   },
   "source": [
    "## Build the Neural Network\n",
    "You'll build the components necessary to build a RNN by implementing the following functions below:\n",
    "- get_inputs\n",
    "- get_init_cell\n",
    "- get_embed\n",
    "- build_rnn\n",
    "- build_nn\n",
    "- get_batches\n",
    "\n",
    "### Check the Version of TensorFlow and Access to GPU"
   ]
  },
  {
   "cell_type": "code",
   "execution_count": 2,
   "metadata": {
    "colab": {
     "base_uri": "https://localhost:8080/",
     "height": 51
    },
    "colab_type": "code",
    "id": "NT-sjyOHlePQ",
    "outputId": "86e64cad-8c7e-4c26-ff3a-cbd9f1090535"
   },
   "outputs": [
    {
     "name": "stdout",
     "output_type": "stream",
     "text": [
      "TensorFlow Version: 1.14.0\n",
      "Default GPU Device: /device:GPU:0\n"
     ]
    }
   ],
   "source": [
    "\"\"\"\n",
    "DON'T MODIFY ANYTHING IN THIS CELL\n",
    "\"\"\"\n",
    "from distutils.version import LooseVersion\n",
    "import warnings\n",
    "import tensorflow as tf\n",
    "\n",
    "# Check TensorFlow Version\n",
    "assert LooseVersion(tf.__version__) >= LooseVersion('1.3'), 'Please use TensorFlow version 1.3 or newer'\n",
    "print('TensorFlow Version: {}'.format(tf.__version__))\n",
    "\n",
    "# Check for a GPU\n",
    "if not tf.test.gpu_device_name():\n",
    "    warnings.warn('No GPU found. Please use a GPU to train your neural network.')\n",
    "else:\n",
    "    print('Default GPU Device: {}'.format(tf.test.gpu_device_name()))"
   ]
  },
  {
   "cell_type": "markdown",
   "metadata": {
    "colab_type": "text",
    "id": "wHM6De-MlePU"
   },
   "source": [
    "### Input\n",
    "Implement the `get_inputs()` function to create TF Placeholders for the Neural Network.  It should create the following placeholders:\n",
    "- Input text placeholder named \"input\" using the [TF Placeholder](https://www.tensorflow.org/api_docs/python/tf/placeholder) `name` parameter.\n",
    "- Targets placeholder\n",
    "- Learning Rate placeholder\n",
    "\n",
    "Return the placeholders in the following tuple `(Input, Targets, LearningRate)`"
   ]
  },
  {
   "cell_type": "code",
   "execution_count": 3,
   "metadata": {
    "colab": {
     "base_uri": "https://localhost:8080/",
     "height": 34
    },
    "colab_type": "code",
    "id": "fO85d1GflePV",
    "outputId": "fa248540-ec5d-46e2-b278-20c0f6a8a967"
   },
   "outputs": [
    {
     "name": "stdout",
     "output_type": "stream",
     "text": [
      "Tests Passed\n"
     ]
    }
   ],
   "source": [
    "def get_inputs():\n",
    "    \"\"\"\n",
    "    Create TF Placeholders for input, targets, and learning rate.\n",
    "    :return: Tuple (input, targets, learning rate)\n",
    "    \"\"\"\n",
    "    # TODO: Implement Function\n",
    "    \n",
    "    return tf.placeholder(tf.int32, [None, None], name = 'input'), tf.placeholder(tf.int32, [None, None], name = 'Targets'),\\\n",
    "tf.placeholder(tf.float32, name = 'LearningRate')\n",
    "\n",
    "\n",
    "\n",
    "\"\"\"\n",
    "DON'T MODIFY ANYTHING IN THIS CELL THAT IS BELOW THIS LINE\n",
    "\"\"\"\n",
    "tests.test_get_inputs(get_inputs)"
   ]
  },
  {
   "cell_type": "code",
   "execution_count": 0,
   "metadata": {
    "colab": {},
    "colab_type": "code",
    "id": "h1K4MGFMlePZ"
   },
   "outputs": [],
   "source": [
    "train_graph = tf.Graph()\n",
    "with train_graph.as_default():\n",
    "\n",
    "    keep_prob = tf.placeholder(tf.float32, name = \"keep_prob\")"
   ]
  },
  {
   "cell_type": "markdown",
   "metadata": {
    "colab_type": "text",
    "id": "htHakEpZlePc"
   },
   "source": [
    "### Build RNN Cell and Initialize\n",
    "Stack one or more [`BasicLSTMCells`](https://www.tensorflow.org/api_docs/python/tf/contrib/rnn/BasicLSTMCell) in a [`MultiRNNCell`](https://www.tensorflow.org/api_docs/python/tf/contrib/rnn/MultiRNNCell).\n",
    "- The Rnn size should be set using `rnn_size`\n",
    "- Initalize Cell State using the MultiRNNCell's [`zero_state()`](https://www.tensorflow.org/api_docs/python/tf/contrib/rnn/MultiRNNCell#zero_state) function\n",
    "    - Apply the name \"initial_state\" to the initial state using [`tf.identity()`](https://www.tensorflow.org/api_docs/python/tf/identity)\n",
    "\n",
    "Return the cell and initial state in the following tuple `(Cell, InitialState)`"
   ]
  },
  {
   "cell_type": "code",
   "execution_count": 5,
   "metadata": {
    "colab": {
     "base_uri": "https://localhost:8080/",
     "height": 207
    },
    "colab_type": "code",
    "id": "YugXxHmPlePe",
    "outputId": "113dc02a-ad7a-49bd-e273-abd872c8b3f8"
   },
   "outputs": [
    {
     "name": "stderr",
     "output_type": "stream",
     "text": [
      "WARNING: Logging before flag parsing goes to stderr.\n",
      "W0704 16:11:56.996522 140042306860928 deprecation_wrapper.py:119] From /content/problem_unittests.py:185: The name tf.placeholder is deprecated. Please use tf.compat.v1.placeholder instead.\n",
      "\n",
      "W0704 16:11:56.999134 140042306860928 deprecation.py:323] From <ipython-input-5-83b9e2790055>:12: BasicLSTMCell.__init__ (from tensorflow.python.ops.rnn_cell_impl) is deprecated and will be removed in a future version.\n",
      "Instructions for updating:\n",
      "This class is equivalent as tf.keras.layers.LSTMCell, and will be replaced by that in Tensorflow 2.0.\n",
      "W0704 16:11:57.009868 140042306860928 deprecation.py:323] From <ipython-input-5-83b9e2790055>:19: MultiRNNCell.__init__ (from tensorflow.python.ops.rnn_cell_impl) is deprecated and will be removed in a future version.\n",
      "Instructions for updating:\n",
      "This class is equivalent as tf.keras.layers.StackedRNNCells, and will be replaced by that in Tensorflow 2.0.\n"
     ]
    },
    {
     "name": "stdout",
     "output_type": "stream",
     "text": [
      "Tests Passed\n"
     ]
    }
   ],
   "source": [
    "def get_init_cell(batch_size, rnn_size, num_layers = 2):\n",
    "    \"\"\"\n",
    "    Create an RNN Cell and initialize it.\n",
    "    :param batch_size: Size of batches\n",
    "    :param rnn_size: Size of RNNs\n",
    "    :return: Tuple (cell, initialize state)\n",
    "    \"\"\"\n",
    "    # TODO: Implement Function\n",
    "    \n",
    "    def build_cell(rnn_size):\n",
    "        \n",
    "        #defining basic lstm size\n",
    "        basiclstm = tf.contrib.rnn.BasicLSTMCell(rnn_size)\n",
    "        \n",
    "        #dropout wrapper with keep prb\n",
    "        drop = tf.contrib.rnn.DropoutWrapper(basiclstm, output_keep_prob = keep_prob)\n",
    "    \n",
    "        return drop\n",
    "    \n",
    "    #building lstm cell with number of layers\n",
    "    multi_lstm = tf.contrib.rnn.MultiRNNCell([build_cell(rnn_size) for _ in range(num_layers)])\n",
    "    \n",
    "    initialstate = multi_lstm.zero_state(batch_size, tf.float32)\n",
    "    \n",
    "    \n",
    "    \n",
    "    return multi_lstm, tf.identity(initialstate, name = \"initial_state\")\n",
    "\n",
    "\n",
    "\"\"\"\n",
    "DON'T MODIFY ANYTHING IN THIS CELL THAT IS BELOW THIS LINE\n",
    "\"\"\"\n",
    "tests.test_get_init_cell(get_init_cell)\n",
    "\n"
   ]
  },
  {
   "cell_type": "markdown",
   "metadata": {
    "colab_type": "text",
    "id": "Ear5knhMlePj"
   },
   "source": [
    "### Word Embedding\n",
    "Apply embedding to `input_data` using TensorFlow.  Return the embedded sequence."
   ]
  },
  {
   "cell_type": "code",
   "execution_count": 6,
   "metadata": {
    "colab": {
     "base_uri": "https://localhost:8080/",
     "height": 34
    },
    "colab_type": "code",
    "id": "G1q_potAlePk",
    "outputId": "e0c524b2-07a5-4b36-a6cf-671a2f23aa69"
   },
   "outputs": [
    {
     "name": "stdout",
     "output_type": "stream",
     "text": [
      "Tests Passed\n"
     ]
    }
   ],
   "source": [
    "def get_embed(input_data, vocab_size, embed_dim):\n",
    "    \"\"\"\n",
    "    Create embedding for <input_data>.\n",
    "    :param input_data: TF placeholder for text input.\n",
    "    :param vocab_size: Number of words in vocabulary.\n",
    "    :param embed_dim: Number of embedding dimensions\n",
    "    :return: Embedded input.\n",
    "    \"\"\"  \n",
    "    # TODO: Implement Function\n",
    "    \n",
    "    #creating embedding vector for input words\n",
    "    \n",
    "    embedding = tf.Variable(tf.random_uniform((vocab_size, embed_dim), -1, 1))\n",
    "    embed = tf.nn.embedding_lookup(embedding, input_data)\n",
    "    \n",
    "    \n",
    "    return embed\n",
    "\n",
    "\n",
    "\"\"\"\n",
    "DON'T MODIFY ANYTHING IN THIS CELL THAT IS BELOW THIS LINE\n",
    "\"\"\"\n",
    "tests.test_get_embed(get_embed)"
   ]
  },
  {
   "cell_type": "markdown",
   "metadata": {
    "colab_type": "text",
    "id": "q_rteyQOlePo"
   },
   "source": [
    "### Build RNN\n",
    "You created a RNN Cell in the `get_init_cell()` function.  Time to use the cell to create a RNN.\n",
    "- Build the RNN using the [`tf.nn.dynamic_rnn()`](https://www.tensorflow.org/api_docs/python/tf/nn/dynamic_rnn)\n",
    " - Apply the name \"final_state\" to the final state using [`tf.identity()`](https://www.tensorflow.org/api_docs/python/tf/identity)\n",
    "\n",
    "Return the outputs and final_state state in the following tuple `(Outputs, FinalState)` "
   ]
  },
  {
   "cell_type": "code",
   "execution_count": 7,
   "metadata": {
    "colab": {
     "base_uri": "https://localhost:8080/",
     "height": 207
    },
    "colab_type": "code",
    "id": "lbwRQ99_lePq",
    "outputId": "0b7825ad-cc71-4746-dd94-19a9b7564234"
   },
   "outputs": [
    {
     "name": "stderr",
     "output_type": "stream",
     "text": [
      "W0704 16:12:06.526015 140042306860928 deprecation.py:323] From <ipython-input-7-3fff2157833a>:9: dynamic_rnn (from tensorflow.python.ops.rnn) is deprecated and will be removed in a future version.\n",
      "Instructions for updating:\n",
      "Please use `keras.layers.RNN(cell)`, which is equivalent to this API\n",
      "W0704 16:12:06.867210 140042306860928 deprecation.py:506] From /usr/local/lib/python3.6/dist-packages/tensorflow/python/ops/init_ops.py:1251: calling VarianceScaling.__init__ (from tensorflow.python.ops.init_ops) with dtype is deprecated and will be removed in a future version.\n",
      "Instructions for updating:\n",
      "Call initializer instance with the dtype argument instead of passing it to the constructor\n",
      "W0704 16:12:06.880249 140042306860928 deprecation.py:506] From /usr/local/lib/python3.6/dist-packages/tensorflow/python/ops/rnn_cell_impl.py:738: calling Zeros.__init__ (from tensorflow.python.ops.init_ops) with dtype is deprecated and will be removed in a future version.\n",
      "Instructions for updating:\n",
      "Call initializer instance with the dtype argument instead of passing it to the constructor\n"
     ]
    },
    {
     "name": "stdout",
     "output_type": "stream",
     "text": [
      "Tests Passed\n"
     ]
    }
   ],
   "source": [
    "def build_rnn(cell, inputs):\n",
    "    \"\"\"\n",
    "    Create a RNN using a RNN Cell\n",
    "    :param cell: RNN Cell\n",
    "    :param inputs: Input text data\n",
    "    :return: Tuple (Outputs, Final State)\n",
    "    \"\"\"\n",
    "    # TODO: Implement Function\n",
    "    \n",
    "    #unrolling lstm cell in time to compute outputs and final state\n",
    "    outputs, final_state = tf.nn.dynamic_rnn(cell, inputs, dtype = tf.float32)\n",
    "    \n",
    "    return outputs, tf.identity(final_state, name = 'final_state') \n",
    "\n",
    "\n",
    "\"\"\"\n",
    "DON'T MODIFY ANYTHING IN THIS CELL THAT IS BELOW THIS LINE\n",
    "\"\"\"\n",
    "tests.test_build_rnn(build_rnn)"
   ]
  },
  {
   "cell_type": "markdown",
   "metadata": {
    "colab_type": "text",
    "id": "jBUUtsy_leP3"
   },
   "source": [
    "### Build the Neural Network\n",
    "Apply the functions you implemented above to:\n",
    "- Apply embedding to `input_data` using your `get_embed(input_data, vocab_size, embed_dim)` function.\n",
    "- Build RNN using `cell` and your `build_rnn(cell, inputs)` function.\n",
    "- Apply a fully connected layer with a linear activation and `vocab_size` as the number of outputs.\n",
    "\n",
    "Return the logits and final state in the following tuple (Logits, FinalState) "
   ]
  },
  {
   "cell_type": "code",
   "execution_count": 8,
   "metadata": {
    "colab": {
     "base_uri": "https://localhost:8080/",
     "height": 34
    },
    "colab_type": "code",
    "id": "XuE0HTVEleP8",
    "outputId": "ce21902d-d2d6-4115-a8d0-d98f4eb9eb22"
   },
   "outputs": [
    {
     "name": "stdout",
     "output_type": "stream",
     "text": [
      "Tests Passed\n"
     ]
    }
   ],
   "source": [
    "def build_nn(cell, rnn_size, input_data, vocab_size, embed_dim):\n",
    "    \"\"\"\n",
    "    Build part of the neural network\n",
    "    :param cell: RNN cell\n",
    "    :param rnn_size: Size of rnns\n",
    "    :param input_data: Input data\n",
    "    :param vocab_size: Vocabulary size\n",
    "    :param embed_dim: Number of embedding dimensions\n",
    "    :return: Tuple (Logits, FinalState)\n",
    "    \"\"\"\n",
    "    # TODO: Implement Function\n",
    "    \n",
    "    #implementing the functions above to run word embeddings through RNN & compute logits and final state\n",
    "    input_embed = get_embed(input_data, vocab_size, embed_dim)\n",
    "    \n",
    "    outputs, final_state = build_rnn(cell, input_embed)\n",
    "    \n",
    "    logits = tf.contrib.layers.fully_connected(outputs, vocab_size, activation_fn = None)\n",
    "    \n",
    "    return logits, final_state\n",
    "\n",
    "\n",
    "\"\"\"\n",
    "DON'T MODIFY ANYTHING IN THIS CELL THAT IS BELOW THIS LINE\n",
    "\"\"\"\n",
    "tests.test_build_nn(build_nn)\n",
    "\n"
   ]
  },
  {
   "cell_type": "markdown",
   "metadata": {
    "colab_type": "text",
    "id": "-3a-3JLFleQK"
   },
   "source": [
    "### Batches\n",
    "Implement `get_batches` to create batches of input and targets using `int_text`.  The batches should be a Numpy array with the shape `(number of batches, 2, batch size, sequence length)`. Each batch contains two elements:\n",
    "- The first element is a single batch of **input** with the shape `[batch size, sequence length]`\n",
    "- The second element is a single batch of **targets** with the shape `[batch size, sequence length]`\n",
    "\n",
    "If you can't fill the last batch with enough data, drop the last batch.\n",
    "\n",
    "For example, `get_batches([1, 2, 3, 4, 5, 6, 7, 8, 9, 10, 11, 12, 13, 14, 15, 16, 17, 18, 19, 20], 3, 2)` would return a Numpy array of the following:\n",
    "```\n",
    "[\n",
    "  # First Batch\n",
    "  [\n",
    "    # Batch of Input\n",
    "    [[ 1  2], [ 7  8], [13 14]]\n",
    "    # Batch of targets\n",
    "    [[ 2  3], [ 8  9], [14 15]]\n",
    "  ]\n",
    "\n",
    "  # Second Batch\n",
    "  [\n",
    "    # Batch of Input\n",
    "    [[ 3  4], [ 9 10], [15 16]]\n",
    "    # Batch of targets\n",
    "    [[ 4  5], [10 11], [16 17]]\n",
    "  ]\n",
    "\n",
    "  # Third Batch\n",
    "  [\n",
    "    # Batch of Input\n",
    "    [[ 5  6], [11 12], [17 18]]\n",
    "    # Batch of targets\n",
    "    [[ 6  7], [12 13], [18  1]]\n",
    "  ]\n",
    "]\n",
    "```\n",
    "\n",
    "Notice that the last target value in the last batch is the first input value of the first batch. In this case, `1`. This is a common technique used when creating sequence batches, although it is rather unintuitive."
   ]
  },
  {
   "cell_type": "code",
   "execution_count": 9,
   "metadata": {
    "colab": {
     "base_uri": "https://localhost:8080/",
     "height": 34
    },
    "colab_type": "code",
    "id": "458ex9-XleQP",
    "outputId": "578b96a9-bef6-45de-eb44-8f1c8bb1526c"
   },
   "outputs": [
    {
     "name": "stdout",
     "output_type": "stream",
     "text": [
      "Tests Passed\n"
     ]
    }
   ],
   "source": [
    "def get_batches(int_text, batch_size, seq_length):\n",
    "    \"\"\"\n",
    "    Return batches of input and target\n",
    "    :param int_text: Text with the words replaced by their ids\n",
    "    :param batch_size: The size of batch\n",
    "    :param seq_length: The length of sequence\n",
    "    :return: Batches as a Numpy array\n",
    "    \"\"\"\n",
    "    # TODO: Implement Function\n",
    "    \n",
    "    #obtain charcter per batch\n",
    "    characters_per_batch = batch_size * seq_length\n",
    "    \n",
    "    #number of batches that can be created using expected characters per batch\n",
    "    num_batches = len(int_text)//characters_per_batch\n",
    "    \n",
    "    #keeping only enough to make full batches\n",
    "    int_text = int_text[: (characters_per_batch * num_batches)]\n",
    "    \n",
    "    int_text = np.asarray(int_text)\n",
    "    \n",
    "    int_text = int_text.reshape(batch_size, -1)\n",
    "        \n",
    "    #creating required shape of batches\n",
    "    batches = np.zeros((num_batches, 2, batch_size, seq_length))\n",
    "    \n",
    "    #initializing a step to measure position of sequences\n",
    "    step = 0\n",
    "    \n",
    "    #loop to create batches\n",
    "    for batch_num in range(num_batches):\n",
    "        \n",
    "        #creating sequence length required start to end of sequence for each batch\n",
    "        x = int_text[:, step : step + seq_length]\n",
    "\n",
    "        y_temp = int_text[:, (step + 1): (step + 1) + seq_length]\n",
    "        \n",
    "        #ensuring targets y are same size as inputs x\n",
    "        y = np.zeros(x.shape, dtype=x.dtype)\n",
    "        \n",
    "        y[:,:y_temp.shape[1]] = y_temp\n",
    "            \n",
    "        #assigning the inputs and targets to batches\n",
    "        batches[batch_num, 0, :, :] = x\n",
    "        \n",
    "        batches[batch_num, 1, :, :] = y\n",
    "        \n",
    "        #incrementing the sequence length to guide new start and stop\n",
    "        step += seq_length\n",
    "       \n",
    "    #ensuring last target value in last batch of targets is first input value of the first batch. \n",
    "    batches[num_batches-1, 1, -1, -1] = batches[0, 0, 0, 0]\n",
    "        \n",
    "    return batches\n",
    "\n",
    "\n",
    "\"\"\"\n",
    "DON'T MODIFY ANYTHING IN THIS CELL THAT IS BELOW THIS LINE\n",
    "\"\"\"\n",
    "tests.test_get_batches(get_batches)"
   ]
  },
  {
   "cell_type": "markdown",
   "metadata": {
    "colab_type": "text",
    "id": "0MM1DATLleQS"
   },
   "source": [
    "## Neural Network Training\n",
    "### Hyperparameters\n",
    "Tune the following parameters:\n",
    "\n",
    "- Set `num_epochs` to the number of epochs.\n",
    "- Set `batch_size` to the batch size.\n",
    "- Set `rnn_size` to the size of the RNNs.\n",
    "- Set `embed_dim` to the size of the embedding.\n",
    "- Set `seq_length` to the length of sequence.\n",
    "- Set `learning_rate` to the learning rate.\n",
    "- Set `show_every_n_batches` to the number of batches the neural network should print progress."
   ]
  },
  {
   "cell_type": "code",
   "execution_count": 44,
   "metadata": {
    "colab": {
     "base_uri": "https://localhost:8080/",
     "height": 34
    },
    "colab_type": "code",
    "id": "lrzjEz8pleQT",
    "outputId": "ae96535b-c02d-441c-b540-80b6220a1f73"
   },
   "outputs": [
    {
     "data": {
      "text/plain": [
       "True"
      ]
     },
     "execution_count": 44,
     "metadata": {
      "tags": []
     },
     "output_type": "execute_result"
    }
   ],
   "source": [
    "# Number of Epochs\n",
    "num_epochs = 200\n",
    "# Batch Size\n",
    "batch_size = 64\n",
    "# RNN Size\n",
    "rnn_size = 256\n",
    "# Embedding Dimension Size\n",
    "embed_dim = 256\n",
    "# Sequence Length\n",
    "seq_length = 100\n",
    "# Learning Rate\n",
    "learning_rate = 0.01\n",
    "# Show stats for every n number of batches\n",
    "show_every_n_batches = 10\n",
    "\n",
    "num_layers = 1\n",
    "\n",
    "proba = 1.0\n",
    "\"\"\"\n",
    "DON'T MODIFY ANYTHING IN THIS CELL THAT IS BELOW THIS LINE\n",
    "\"\"\"\n",
    "#save_dir = './save'\n",
    "checkpoint_path = \"checkpoints\"\n",
    "\n",
    "import os\n",
    "#checkpoint_dir = os.path.dirname(checkpoint_path)\n",
    "\n",
    "\n",
    "#os.mkdir(\"checkpoint_dir\")\n",
    "\n",
    "os.path.isdir(\"checkpoint_dir\")"
   ]
  },
  {
   "cell_type": "markdown",
   "metadata": {
    "colab_type": "text",
    "id": "G7NAII91leQZ"
   },
   "source": [
    "### Build the Graph\n",
    "Build the graph using the neural network you implemented."
   ]
  },
  {
   "cell_type": "code",
   "execution_count": 0,
   "metadata": {
    "colab": {},
    "colab_type": "code",
    "id": "zRq0hAqYleQa"
   },
   "outputs": [],
   "source": [
    "\"\"\"\n",
    "DON'T MODIFY ANYTHING IN THIS CELL\n",
    "\"\"\"\n",
    "from tensorflow.contrib import seq2seq\n",
    "\n",
    "#train_graph = tf.Graph()\n",
    "with train_graph.as_default():\n",
    "    vocab_size = len(int_to_vocab)\n",
    "    input_text, targets, lr = get_inputs()\n",
    "    input_data_shape = tf.shape(input_text)\n",
    "    cell, initial_state = get_init_cell(input_data_shape[0], rnn_size, num_layers = num_layers)\n",
    "    logits, final_state = build_nn(cell, rnn_size, input_text, vocab_size, embed_dim)\n",
    "\n",
    "    # Probabilities for generating words\n",
    "    probs = tf.nn.softmax(logits, name='probs')\n",
    "\n",
    "    # Loss function\n",
    "    cost = seq2seq.sequence_loss(\n",
    "        logits,\n",
    "        targets,\n",
    "        tf.ones([input_data_shape[0], input_data_shape[1]]))\n",
    "\n",
    "    # Optimizer\n",
    "    optimizer = tf.train.AdamOptimizer(lr)\n",
    "\n",
    "    # Gradient Clipping\n",
    "    gradients = optimizer.compute_gradients(cost)\n",
    "    capped_gradients = [(tf.clip_by_value(grad, -1., 1.), var) for grad, var in gradients if grad is not None]\n",
    "    train_op = optimizer.apply_gradients(capped_gradients)"
   ]
  },
  {
   "cell_type": "markdown",
   "metadata": {
    "colab_type": "text",
    "id": "_Fb_FI6TleQg"
   },
   "source": [
    "## Train\n",
    "Train the neural network on the preprocessed data.  If you have a hard time getting a good loss, check the [forums](https://discussions.udacity.com/) to see if anyone is having the same problem."
   ]
  },
  {
   "cell_type": "code",
   "execution_count": 45,
   "metadata": {
    "colab": {
     "base_uri": "https://localhost:8080/",
     "height": 1000
    },
    "colab_type": "code",
    "id": "CYJ2Si2NleQh",
    "outputId": "4bd83608-009b-49f6-cced-ff14dfa519d4"
   },
   "outputs": [
    {
     "name": "stdout",
     "output_type": "stream",
     "text": [
      "4002939\n",
      "Epoch   0 Batch    9/10   train_loss = 6.326\n",
      "Epoch   1 Batch    9/10   train_loss = 5.430\n",
      "Epoch   2 Batch    9/10   train_loss = 4.926\n",
      "Epoch   3 Batch    9/10   train_loss = 4.583\n",
      "Epoch   4 Batch    9/10   train_loss = 4.285\n",
      "Epoch   5 Batch    9/10   train_loss = 3.994\n",
      "Epoch   6 Batch    9/10   train_loss = 3.723\n",
      "Epoch   7 Batch    9/10   train_loss = 3.468\n",
      "Epoch   8 Batch    9/10   train_loss = 3.251\n",
      "Epoch   9 Batch    9/10   train_loss = 3.072\n",
      "Epoch  10 Batch    9/10   train_loss = 2.894\n",
      "Epoch  11 Batch    9/10   train_loss = 2.730\n",
      "Epoch  12 Batch    9/10   train_loss = 2.579\n",
      "Epoch  13 Batch    9/10   train_loss = 2.460\n",
      "Epoch  14 Batch    9/10   train_loss = 2.371\n",
      "Epoch  15 Batch    9/10   train_loss = 2.292\n",
      "Epoch  16 Batch    9/10   train_loss = 2.179\n",
      "Epoch  17 Batch    9/10   train_loss = 2.096\n",
      "Epoch  18 Batch    9/10   train_loss = 2.003\n",
      "Epoch  19 Batch    9/10   train_loss = 1.859\n",
      "Epoch  20 Batch    9/10   train_loss = 1.780\n",
      "Epoch  21 Batch    9/10   train_loss = 1.680\n",
      "Epoch  22 Batch    9/10   train_loss = 1.597\n",
      "Epoch  23 Batch    9/10   train_loss = 1.592\n",
      "Epoch  24 Batch    9/10   train_loss = 1.555\n",
      "Epoch  25 Batch    9/10   train_loss = 1.472\n",
      "Epoch  26 Batch    9/10   train_loss = 1.393\n",
      "Epoch  27 Batch    9/10   train_loss = 1.339\n",
      "Epoch  28 Batch    9/10   train_loss = 1.239\n",
      "Epoch  29 Batch    9/10   train_loss = 1.203\n",
      "Epoch  30 Batch    9/10   train_loss = 1.125\n",
      "Epoch  31 Batch    9/10   train_loss = 1.100\n",
      "Epoch  32 Batch    9/10   train_loss = 1.048\n",
      "Epoch  33 Batch    9/10   train_loss = 1.018\n",
      "Epoch  34 Batch    9/10   train_loss = 1.003\n",
      "Epoch  35 Batch    9/10   train_loss = 0.954\n",
      "Epoch  36 Batch    9/10   train_loss = 0.935\n",
      "Epoch  37 Batch    9/10   train_loss = 0.915\n",
      "Epoch  38 Batch    9/10   train_loss = 0.866\n",
      "Epoch  39 Batch    9/10   train_loss = 0.844\n",
      "Epoch  40 Batch    9/10   train_loss = 0.796\n",
      "Epoch  41 Batch    9/10   train_loss = 0.763\n",
      "Epoch  42 Batch    9/10   train_loss = 0.737\n",
      "Epoch  43 Batch    9/10   train_loss = 0.702\n",
      "Epoch  44 Batch    9/10   train_loss = 0.679\n",
      "Epoch  45 Batch    9/10   train_loss = 0.648\n",
      "Epoch  46 Batch    9/10   train_loss = 0.618\n",
      "Epoch  47 Batch    9/10   train_loss = 0.595\n",
      "Epoch  48 Batch    9/10   train_loss = 0.584\n",
      "Epoch  49 Batch    9/10   train_loss = 0.592\n",
      "Epoch  50 Batch    9/10   train_loss = 0.551\n",
      "Epoch  51 Batch    9/10   train_loss = 0.523\n",
      "Epoch  52 Batch    9/10   train_loss = 0.488\n",
      "Epoch  53 Batch    9/10   train_loss = 0.446\n",
      "Epoch  54 Batch    9/10   train_loss = 0.421\n",
      "Epoch  55 Batch    9/10   train_loss = 0.385\n",
      "Epoch  56 Batch    9/10   train_loss = 0.364\n",
      "Epoch  57 Batch    9/10   train_loss = 0.342\n",
      "Epoch  58 Batch    9/10   train_loss = 0.323\n",
      "Epoch  59 Batch    9/10   train_loss = 0.310\n",
      "Epoch  60 Batch    9/10   train_loss = 0.299\n",
      "Epoch  61 Batch    9/10   train_loss = 0.303\n",
      "Epoch  62 Batch    9/10   train_loss = 0.310\n",
      "Epoch  63 Batch    9/10   train_loss = 0.319\n",
      "Epoch  64 Batch    9/10   train_loss = 0.312\n",
      "Epoch  65 Batch    9/10   train_loss = 0.309\n",
      "Epoch  66 Batch    9/10   train_loss = 0.352\n",
      "Epoch  67 Batch    9/10   train_loss = 0.329\n",
      "Epoch  68 Batch    9/10   train_loss = 0.297\n",
      "Epoch  69 Batch    9/10   train_loss = 0.313\n",
      "Epoch  70 Batch    9/10   train_loss = 0.293\n",
      "Epoch  71 Batch    9/10   train_loss = 0.288\n",
      "Epoch  72 Batch    9/10   train_loss = 0.241\n",
      "Epoch  73 Batch    9/10   train_loss = 0.226\n",
      "Epoch  74 Batch    9/10   train_loss = 0.203\n",
      "Epoch  75 Batch    9/10   train_loss = 0.192\n",
      "Epoch  76 Batch    9/10   train_loss = 0.186\n",
      "Epoch  77 Batch    9/10   train_loss = 0.188\n",
      "Epoch  78 Batch    9/10   train_loss = 0.162\n",
      "Epoch  79 Batch    9/10   train_loss = 0.163\n",
      "Epoch  80 Batch    9/10   train_loss = 0.158\n",
      "Epoch  81 Batch    9/10   train_loss = 0.139\n",
      "Epoch  82 Batch    9/10   train_loss = 0.134\n",
      "Epoch  83 Batch    9/10   train_loss = 0.111\n",
      "Epoch  84 Batch    9/10   train_loss = 0.102\n",
      "Epoch  85 Batch    9/10   train_loss = 0.090\n",
      "Epoch  86 Batch    9/10   train_loss = 0.082\n",
      "Epoch  87 Batch    9/10   train_loss = 0.078\n",
      "Epoch  88 Batch    9/10   train_loss = 0.073\n",
      "Epoch  89 Batch    9/10   train_loss = 0.070\n",
      "Epoch  90 Batch    9/10   train_loss = 0.067\n",
      "Epoch  91 Batch    9/10   train_loss = 0.064\n",
      "Epoch  92 Batch    9/10   train_loss = 0.065\n",
      "Epoch  93 Batch    9/10   train_loss = 0.059\n",
      "Epoch  94 Batch    9/10   train_loss = 0.059\n",
      "Epoch  95 Batch    9/10   train_loss = 0.055\n",
      "Epoch  96 Batch    9/10   train_loss = 0.054\n",
      "Epoch  97 Batch    9/10   train_loss = 0.051\n",
      "Epoch  98 Batch    9/10   train_loss = 0.049\n",
      "Epoch  99 Batch    9/10   train_loss = 0.046\n",
      "Epoch 100 Batch    9/10   train_loss = 0.045\n",
      "Epoch 101 Batch    9/10   train_loss = 0.043\n",
      "Epoch 102 Batch    9/10   train_loss = 0.042\n",
      "Epoch 103 Batch    9/10   train_loss = 0.040\n",
      "Epoch 104 Batch    9/10   train_loss = 0.039\n",
      "Epoch 105 Batch    9/10   train_loss = 0.038\n",
      "Epoch 106 Batch    9/10   train_loss = 0.038\n",
      "Epoch 107 Batch    9/10   train_loss = 0.036\n",
      "Epoch 108 Batch    9/10   train_loss = 0.036\n",
      "Epoch 109 Batch    9/10   train_loss = 0.035\n",
      "Epoch 110 Batch    9/10   train_loss = 0.034\n",
      "Epoch 111 Batch    9/10   train_loss = 0.033\n",
      "Epoch 112 Batch    9/10   train_loss = 0.034\n",
      "Epoch 113 Batch    9/10   train_loss = 0.032\n",
      "Epoch 114 Batch    9/10   train_loss = 0.032\n",
      "Epoch 115 Batch    9/10   train_loss = 0.032\n",
      "Epoch 116 Batch    9/10   train_loss = 0.031\n",
      "Epoch 117 Batch    9/10   train_loss = 0.031\n",
      "Epoch 118 Batch    9/10   train_loss = 0.030\n",
      "Epoch 119 Batch    9/10   train_loss = 0.030\n",
      "Epoch 120 Batch    9/10   train_loss = 0.029\n",
      "Epoch 121 Batch    9/10   train_loss = 0.029\n",
      "Epoch 122 Batch    9/10   train_loss = 0.029\n",
      "Epoch 123 Batch    9/10   train_loss = 0.028\n",
      "Epoch 124 Batch    9/10   train_loss = 0.028\n",
      "Epoch 125 Batch    9/10   train_loss = 0.028\n",
      "Epoch 126 Batch    9/10   train_loss = 0.027\n",
      "Epoch 127 Batch    9/10   train_loss = 0.027\n",
      "Epoch 128 Batch    9/10   train_loss = 0.027\n",
      "Epoch 129 Batch    9/10   train_loss = 0.027\n",
      "Epoch 130 Batch    9/10   train_loss = 0.026\n",
      "Epoch 131 Batch    9/10   train_loss = 0.026\n",
      "Epoch 132 Batch    9/10   train_loss = 0.026\n",
      "Epoch 133 Batch    9/10   train_loss = 0.026\n",
      "Epoch 134 Batch    9/10   train_loss = 0.025\n",
      "Epoch 135 Batch    9/10   train_loss = 0.025\n",
      "Epoch 136 Batch    9/10   train_loss = 0.025\n",
      "Epoch 137 Batch    9/10   train_loss = 0.025\n",
      "Epoch 138 Batch    9/10   train_loss = 0.025\n",
      "Epoch 139 Batch    9/10   train_loss = 0.025\n",
      "Epoch 140 Batch    9/10   train_loss = 0.024\n",
      "Epoch 141 Batch    9/10   train_loss = 0.024\n",
      "Epoch 142 Batch    9/10   train_loss = 0.024\n",
      "Epoch 143 Batch    9/10   train_loss = 0.024\n",
      "Epoch 144 Batch    9/10   train_loss = 0.024\n",
      "Epoch 145 Batch    9/10   train_loss = 0.024\n",
      "Epoch 146 Batch    9/10   train_loss = 0.023\n",
      "Epoch 147 Batch    9/10   train_loss = 0.023\n",
      "Epoch 148 Batch    9/10   train_loss = 0.023\n",
      "Epoch 149 Batch    9/10   train_loss = 0.023\n",
      "Epoch 150 Batch    9/10   train_loss = 0.023\n",
      "Epoch 151 Batch    9/10   train_loss = 0.023\n",
      "Epoch 152 Batch    9/10   train_loss = 0.023\n",
      "Epoch 153 Batch    9/10   train_loss = 0.023\n",
      "Epoch 154 Batch    9/10   train_loss = 0.023\n",
      "Epoch 155 Batch    9/10   train_loss = 0.022\n",
      "Epoch 156 Batch    9/10   train_loss = 0.022\n",
      "Epoch 157 Batch    9/10   train_loss = 0.023\n",
      "Epoch 158 Batch    9/10   train_loss = 0.023\n",
      "Epoch 159 Batch    9/10   train_loss = 0.023\n",
      "Epoch 160 Batch    9/10   train_loss = 0.026\n",
      "Epoch 161 Batch    9/10   train_loss = 0.028\n",
      "Epoch 162 Batch    9/10   train_loss = 0.036\n",
      "Epoch 163 Batch    9/10   train_loss = 0.066\n",
      "Epoch 164 Batch    9/10   train_loss = 0.217\n",
      "Epoch 165 Batch    9/10   train_loss = 0.738\n",
      "Epoch 166 Batch    9/10   train_loss = 1.169\n",
      "Epoch 167 Batch    9/10   train_loss = 1.258\n",
      "Epoch 168 Batch    9/10   train_loss = 1.151\n",
      "Epoch 169 Batch    9/10   train_loss = 0.967\n",
      "Epoch 170 Batch    9/10   train_loss = 0.768\n",
      "Epoch 171 Batch    9/10   train_loss = 0.618\n",
      "Epoch 172 Batch    9/10   train_loss = 0.485\n",
      "Epoch 173 Batch    9/10   train_loss = 0.387\n",
      "Epoch 174 Batch    9/10   train_loss = 0.305\n",
      "Epoch 175 Batch    9/10   train_loss = 0.246\n",
      "Epoch 176 Batch    9/10   train_loss = 0.203\n",
      "Epoch 177 Batch    9/10   train_loss = 0.176\n",
      "Epoch 178 Batch    9/10   train_loss = 0.150\n",
      "Epoch 179 Batch    9/10   train_loss = 0.135\n",
      "Epoch 180 Batch    9/10   train_loss = 0.120\n",
      "Epoch 181 Batch    9/10   train_loss = 0.106\n",
      "Epoch 182 Batch    9/10   train_loss = 0.086\n",
      "Epoch 183 Batch    9/10   train_loss = 0.074\n",
      "Epoch 184 Batch    9/10   train_loss = 0.063\n",
      "Epoch 185 Batch    9/10   train_loss = 0.059\n",
      "Epoch 186 Batch    9/10   train_loss = 0.051\n",
      "Epoch 187 Batch    9/10   train_loss = 0.048\n",
      "Epoch 188 Batch    9/10   train_loss = 0.043\n",
      "Epoch 189 Batch    9/10   train_loss = 0.040\n",
      "Epoch 190 Batch    9/10   train_loss = 0.038\n",
      "Epoch 191 Batch    9/10   train_loss = 0.037\n",
      "Epoch 192 Batch    9/10   train_loss = 0.035\n",
      "Epoch 193 Batch    9/10   train_loss = 0.034\n",
      "Epoch 194 Batch    9/10   train_loss = 0.034\n",
      "Epoch 195 Batch    9/10   train_loss = 0.033\n",
      "Epoch 196 Batch    9/10   train_loss = 0.032\n",
      "Epoch 197 Batch    9/10   train_loss = 0.031\n",
      "Epoch 198 Batch    9/10   train_loss = 0.031\n",
      "Epoch 199 Batch    9/10   train_loss = 0.030\n",
      "Model Trained and Saved\n"
     ]
    }
   ],
   "source": [
    "\"\"\"\n",
    "DON'T MODIFY ANYTHING IN THIS CELL\n",
    "\"\"\"\n",
    "batches = get_batches(int_text, batch_size, seq_length)\n",
    "\n",
    "with tf.Session(graph=train_graph) as sess:\n",
    "    sess.run(tf.global_variables_initializer())\n",
    "    \n",
    "    all_trainable_vars = tf.reduce_sum([tf.reduce_prod(v.shape) for v in tf.trainable_variables()])\n",
    "    \n",
    "    print(sess.run(all_trainable_vars))\n",
    "\n",
    "    for epoch_i in range(num_epochs):\n",
    "        state = sess.run(initial_state, {input_text: batches[0][0]})\n",
    "\n",
    "        for batch_i, (x, y) in enumerate(batches):\n",
    "            feed = {\n",
    "                input_text: x,\n",
    "                targets: y,\n",
    "                initial_state: state,\n",
    "                lr: learning_rate,\n",
    "                keep_prob : proba}\n",
    "            train_loss, state, _ = sess.run([cost, final_state, train_op], feed)\n",
    "\n",
    "            # Show every <show_every_n_batches> batches\n",
    "            #if (epoch_i * len(batches) + batch_i) % show_every_n_batches == 0:\n",
    "            if ((batch_i  == (len(batches) - 1))):\n",
    "                \n",
    "                print('Epoch {:>3} Batch {:>4}/{}   train_loss = {:.3f}'.format(\n",
    "                    epoch_i,\n",
    "                    batch_i,\n",
    "                    len(batches),\n",
    "                    train_loss))\n",
    "\n",
    "    # Save Model\n",
    "    saver = tf.train.Saver()\n",
    "    saver.save(sess, \"checkpoint_dir/checkpointer\")\n",
    "    print('Model Trained and Saved')"
   ]
  },
  {
   "cell_type": "markdown",
   "metadata": {
    "colab_type": "text",
    "id": "8HWv5iiwleQo"
   },
   "source": [
    "## Save Parameters\n",
    "Save `seq_length` and `save_dir` for generating a new TV script."
   ]
  },
  {
   "cell_type": "code",
   "execution_count": 0,
   "metadata": {
    "colab": {},
    "colab_type": "code",
    "id": "CJvT9CQrleQp"
   },
   "outputs": [],
   "source": [
    "\"\"\"\n",
    "DON'T MODIFY ANYTHING IN THIS CELL\n",
    "\"\"\"\n",
    "# Save parameters for checkpoint\n",
    "helper.save_params((seq_length, \"checkpoint_dir\"))"
   ]
  },
  {
   "cell_type": "markdown",
   "metadata": {
    "colab_type": "text",
    "id": "8rfpXb3jleQt"
   },
   "source": [
    "# Checkpoint"
   ]
  },
  {
   "cell_type": "code",
   "execution_count": 0,
   "metadata": {
    "colab": {},
    "colab_type": "code",
    "id": "vRg9xNQLleQv"
   },
   "outputs": [],
   "source": [
    "\"\"\"\n",
    "DON'T MODIFY ANYTHING IN THIS CELL\n",
    "\"\"\"\n",
    "import tensorflow as tf\n",
    "import numpy as np\n",
    "import helper\n",
    "import problem_unittests as tests\n",
    "\n",
    "_, vocab_to_int, int_to_vocab, token_dict = helper.load_preprocess()\n",
    "seq_length, load_dir = helper.load_params()"
   ]
  },
  {
   "cell_type": "markdown",
   "metadata": {
    "colab_type": "text",
    "id": "wr4jti6hleQz"
   },
   "source": [
    "## Implement Generate Functions\n",
    "### Get Tensors\n",
    "Get tensors from `loaded_graph` using the function [`get_tensor_by_name()`](https://www.tensorflow.org/api_docs/python/tf/Graph#get_tensor_by_name).  Get the tensors using the following names:\n",
    "- \"input:0\"\n",
    "- \"initial_state:0\"\n",
    "- \"final_state:0\"\n",
    "- \"probs:0\"\n",
    "\n",
    "Return the tensors in the following tuple `(InputTensor, InitialStateTensor, FinalStateTensor, ProbsTensor)` "
   ]
  },
  {
   "cell_type": "code",
   "execution_count": 53,
   "metadata": {
    "colab": {
     "base_uri": "https://localhost:8080/",
     "height": 34
    },
    "colab_type": "code",
    "id": "TzDL473NleQ_",
    "outputId": "c6fc9e43-2673-4c7c-992b-29212ed44f52"
   },
   "outputs": [
    {
     "data": {
      "text/plain": [
       "\"\\nDON'T MODIFY ANYTHING IN THIS CELL THAT IS BELOW THIS LINE\\n\""
      ]
     },
     "execution_count": 53,
     "metadata": {
      "tags": []
     },
     "output_type": "execute_result"
    }
   ],
   "source": [
    "def get_tensors(loaded_graph):\n",
    "    \"\"\"\n",
    "    Get input, initial state, final state, and probabilities tensor from <loaded_graph>\n",
    "    :param loaded_graph: TensorFlow graph loaded from file\n",
    "    :return: Tuple (InputTensor, InitialStateTensor, FinalStateTensor, ProbsTensor)\n",
    "    \"\"\"\n",
    "    # TODO: Implement Function   \n",
    "    \n",
    "    #to retrieve tensors from loaded graph\n",
    "    InputTensor = loaded_graph.get_tensor_by_name(\"input:0\")\n",
    "    \n",
    "    InitialStateTensor = loaded_graph.get_tensor_by_name(\"initial_state:0\")\n",
    "    \n",
    "    \n",
    "    FinalStateTensor = loaded_graph.get_tensor_by_name(\"final_state:0\")\n",
    "    \n",
    "    \n",
    "    probs = loaded_graph.get_tensor_by_name(\"probs:0\")\n",
    "    \n",
    "    \n",
    "    keep_prob = loaded_graph.get_tensor_by_name(\"keep_prob:0\")\n",
    "    \n",
    "        \n",
    "        \n",
    "    return InputTensor, InitialStateTensor, FinalStateTensor, probs, keep_prob\n",
    "\n",
    "\n",
    "\"\"\"\n",
    "DON'T MODIFY ANYTHING IN THIS CELL THAT IS BELOW THIS LINE\n",
    "\"\"\"\n",
    "#tests.test_get_tensors(get_tensors)"
   ]
  },
  {
   "cell_type": "markdown",
   "metadata": {
    "colab_type": "text",
    "id": "6FYQNrY9leRF"
   },
   "source": [
    "### Choose Word\n",
    "Implement the `pick_word()` function to select the next word using `probabilities`."
   ]
  },
  {
   "cell_type": "code",
   "execution_count": 54,
   "metadata": {
    "colab": {
     "base_uri": "https://localhost:8080/",
     "height": 34
    },
    "colab_type": "code",
    "id": "4w09aiWSleRG",
    "outputId": "9fd3992a-27d6-4dd1-9362-1b19a9cf71de"
   },
   "outputs": [
    {
     "name": "stdout",
     "output_type": "stream",
     "text": [
      "Tests Passed\n"
     ]
    }
   ],
   "source": [
    "def pick_word(probabilities, int_to_vocab):\n",
    "    \"\"\"\n",
    "    Pick the next word in the generated text\n",
    "    :param probabilities: Probabilites of the next word\n",
    "    :param int_to_vocab: Dictionary of word ids as the keys and words as the values\n",
    "    :return: String of the predicted word\n",
    "    \"\"\"\n",
    "    # TODO: Implement Function\n",
    "    \n",
    "    word = np.argmax(probabilities)\n",
    "    \n",
    "    \n",
    "    return int_to_vocab[word]\n",
    "\n",
    "\n",
    "\"\"\"\n",
    "DON'T MODIFY ANYTHING IN THIS CELL THAT IS BELOW THIS LINE\n",
    "\"\"\"\n",
    "tests.test_pick_word(pick_word)"
   ]
  },
  {
   "cell_type": "markdown",
   "metadata": {
    "colab_type": "text",
    "id": "Lvw3AjMSleRI"
   },
   "source": [
    "## Generate TV Script\n",
    "This will generate the TV script for you.  Set `gen_length` to the length of TV script you want to generate."
   ]
  },
  {
   "cell_type": "code",
   "execution_count": 68,
   "metadata": {
    "colab": {
     "base_uri": "https://localhost:8080/",
     "height": 275
    },
    "colab_type": "code",
    "id": "egGInGm3leRJ",
    "outputId": "c6fb38de-5371-470d-f688-f9bfc39e9e5b"
   },
   "outputs": [
    {
     "name": "stdout",
     "output_type": "stream",
     "text": [
      "moe_szyslak: power off, einstein.\n",
      "moe_szyslak: so whaddaya want here? uh, appendectomy, lipo, or(excited, selling) the\" sampler\"? that's very popular.\n",
      "homer_simpson:(dramatically) i want you to stick this crayon into my brain.\n",
      "moe_szyslak: no problem.(art carney arm flourish) the ol' crayola oblongata.\n",
      "moe_szyslak: all right, tell me when i hit the sweet spot.\n",
      "homer_simpson: deeper, you pusillanimous pilsner-pusher.\n",
      "moe_szyslak: all right, all right.\n",
      "homer_simpson:(inanely) hi guys!\n",
      "homer_simpson:(gasps) gr-aargh! oh my god, this man is my exact double.(gasps with equal astonishment) that dog has a puffy tail!\n",
      "homer_simpson: here, puff! here puff!(giggles)\n",
      "homer_simpson: the last bar in the first place left in the world of woe:\n",
      "homer_simpson: what the--? i'm not gonna gamble with my daughter's future.\n",
      "moe_szyslak: nah, you got the wrong thing.\n",
      "moe_szyslak: what?... what am i lookin' at? i\n"
     ]
    }
   ],
   "source": [
    "gen_length = 200\n",
    "#homer_simpson, moe_szyslak, or Barney_Gumble\n",
    "prime_word = \"moe_szyslak\"\n",
    "\n",
    "\"\"\"\n",
    "DON'T MODIFY ANYTHING IN THIS CELL THAT IS BELOW THIS LINE\n",
    "\"\"\"\n",
    "loaded_graph = tf.Graph()\n",
    "with tf.Session(graph=loaded_graph) as sess:\n",
    "    # Load saved model\n",
    "    \n",
    "    \n",
    "    loader = tf.train.import_meta_graph('checkpoint_dir/checkpointer.meta')\n",
    "    loader.restore(sess, tf.train.latest_checkpoint(\"checkpoint_dir\"))\n",
    "\n",
    "    # Get Tensors from loaded model\n",
    "    input_text, initial_state, final_state1, probs, keep_prob = get_tensors(loaded_graph)\n",
    "\n",
    "    # Sentences generation setup\n",
    "    gen_sentences = [prime_word + ':']\n",
    "    prev_state = sess.run(initial_state, {input_text: np.array([[1]])})\n",
    "\n",
    "    # Generate sentences\n",
    "    for n in range(gen_length):\n",
    "        # Dynamic Input\n",
    "        dyn_input = [[vocab_to_int[word] for word in gen_sentences[-seq_length:]]]\n",
    "        #dyn_input = [[vocab_to_int[word] for word in gen_sentences[: seq_length]]]\n",
    "        dyn_seq_length = len(dyn_input[0])\n",
    "\n",
    "        # Get Prediction\n",
    "        probabilities, final_state = sess.run([probs, final_state1],\n",
    "        feed_dict = {input_text: dyn_input, initial_state: prev_state, keep_prob : 1.0})\n",
    "        \n",
    "        \n",
    "        pred_word = pick_word(probabilities[0][dyn_seq_length-1], int_to_vocab)\n",
    "\n",
    "        gen_sentences.append(pred_word)\n",
    "    \n",
    "    # Remove tokens\n",
    "    tv_script = ' '.join(gen_sentences)\n",
    "    for key, token in token_dict.items():\n",
    "        ending = ' ' if key in ['\\n', '(', '\"'] else ''\n",
    "        tv_script = tv_script.replace(' ' + token.lower(), key)\n",
    "    tv_script = tv_script.replace('\\n ', '\\n')\n",
    "    tv_script = tv_script.replace('( ', '(')\n",
    "        \n",
    "    print(tv_script)"
   ]
  },
  {
   "cell_type": "code",
   "execution_count": 0,
   "metadata": {
    "colab": {},
    "colab_type": "code",
    "id": "H5qwi8w53eDS"
   },
   "outputs": [],
   "source": []
  },
  {
   "cell_type": "code",
   "execution_count": null,
   "metadata": {
    "colab": {},
    "colab_type": "code",
    "id": "ygL1t4i5leRO"
   },
   "outputs": [],
   "source": []
  },
  {
   "cell_type": "markdown",
   "metadata": {
    "colab_type": "text",
    "id": "GnMAtWeRleRQ"
   },
   "source": [
    "# The TV Script is Nonsensical\n",
    "It's ok if the TV script doesn't make any sense.  We trained on less than a megabyte of text.  In order to get good results, you'll have to use a smaller vocabulary or get more data.  Luckily there's more data!  As we mentioned in the beggining of this project, this is a subset of [another dataset](https://www.kaggle.com/wcukierski/the-simpsons-by-the-data).  We didn't have you train on all the data, because that would take too long.  However, you are free to train your neural network on all the data.  After you complete the project, of course.\n",
    "# Submitting This Project\n",
    "When submitting this project, make sure to run all the cells before saving the notebook. Save the notebook file as \"dlnd_tv_script_generation.ipynb\" and save it as a HTML file under \"File\" -> \"Download as\". Include the \"helper.py\" and \"problem_unittests.py\" files in your submission."
   ]
  }
 ],
 "metadata": {
  "accelerator": "GPU",
  "colab": {
   "collapsed_sections": [],
   "name": "dlnd_tv_script_generation.ipynb",
   "provenance": [],
   "toc_visible": true,
   "version": "0.3.2"
  },
  "kernelspec": {
   "display_name": "Python 3",
   "language": "python",
   "name": "python3"
  },
  "language_info": {
   "codemirror_mode": {
    "name": "ipython",
    "version": 3
   },
   "file_extension": ".py",
   "mimetype": "text/x-python",
   "name": "python",
   "nbconvert_exporter": "python",
   "pygments_lexer": "ipython3",
   "version": "3.6.7"
  }
 },
 "nbformat": 4,
 "nbformat_minor": 1
}
